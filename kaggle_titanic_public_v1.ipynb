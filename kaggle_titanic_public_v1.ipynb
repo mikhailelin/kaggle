{
 "cells": [
  {
   "cell_type": "code",
   "execution_count": 72,
   "metadata": {},
   "outputs": [],
   "source": [
    "import pandas as pd\n",
    "import seaborn as sns\n",
    "import matplotlib.pyplot as plt\n",
    "import math\n",
    "import numpy as np \n",
    "from time import time\n",
    "\n",
    "from scipy import stats as st\n",
    "from sklearn.model_selection import train_test_split\n",
    "from sklearn.model_selection import cross_val_score\n",
    "from sklearn.metrics import make_scorer\n",
    "\n",
    "from sklearn.model_selection import RandomizedSearchCV\n",
    "from sklearn.tree import DecisionTreeClassifier\n",
    "from sklearn.ensemble import RandomForestClassifier\n",
    "from sklearn.linear_model import LogisticRegression\n",
    "from sklearn.tree import DecisionTreeRegressor\n",
    "from sklearn.ensemble import RandomForestRegressor\n",
    "from sklearn.linear_model import LinearRegression\n",
    "\n",
    "from sklearn.metrics import accuracy_score\n",
    "from sklearn.metrics import mean_squared_error\n",
    "from sklearn.metrics import precision_score\n",
    "from sklearn.metrics import recall_score\n",
    "from sklearn.metrics import r2_score\n",
    "from sklearn.metrics import f1_score"
   ]
  },
  {
   "cell_type": "code",
   "execution_count": 2,
   "metadata": {},
   "outputs": [],
   "source": [
    "df_test = pd.read_csv('test.csv')\n",
    "df_train = pd.read_csv('train.csv')"
   ]
  },
  {
   "cell_type": "code",
   "execution_count": 3,
   "metadata": {},
   "outputs": [],
   "source": [
    "pd.set_option('display.max_columns', 500)\n",
    "pd.set_option('display.width', 1000)\n",
    "pd.set_option('display.max_rows', None)\n",
    "\n",
    "from IPython.display import Markdown, display\n",
    "def printmd(string):\n",
    "    display(Markdown(string))\n",
    "\n",
    "#Функция, которая к основной информации из метода info добавляет информацию о доли пропущенных значений\n",
    "def file_info_null(df_tmp): \n",
    "    df1_tmp = pd.DataFrame(df_tmp.dtypes)\n",
    "    df1_tmp = df1_tmp.reset_index()\n",
    "    df1_tmp.columns = ['name','type']\n",
    "    df1_tmp['NN_Count'] = 0 #столбце для количества не пустых значений в столбце DataFrame\n",
    "    df1_tmp['isnull']  = 0    \n",
    "    c1 = len(df_tmp.index)\n",
    "    for i in range(0,len(df_tmp.columns)):\n",
    "        df1_tmp.loc[i,'NN_Count'] =  df_tmp[df_tmp.columns[i]].count()\n",
    "        df1_tmp.loc[i,'isnull'] = (c1 - df_tmp[df_tmp.columns[i]].count()) / c1\n",
    "    \n",
    "    cm = sns.light_palette(\"green\", as_cmap=True)\n",
    "    s = df1_tmp.sort_values(by = 'isnull', ascending = False).style.background_gradient(cmap=cm)\n",
    "    print(df1_tmp.sort_values(by = 'isnull', ascending = False).to_string(formatters={'isnull':'{:.2%}'.format}))\n",
    "    \n",
    "    \n",
    "def file_info(df):\n",
    "    printmd('**Общая информация - метод info**')\n",
    "    file_info_null(df)\n",
    "    for col in df.columns:\n",
    "        temp_str = '**Описание столбца ' + col + '**'\n",
    "        printmd(temp_str)\n",
    "        print(df[col].describe())\n",
    "     \n",
    "    printmd('**Есть ли дубликаты**')\n",
    "    print(df.duplicated().sum())  "
   ]
  },
  {
   "cell_type": "code",
   "execution_count": 4,
   "metadata": {
    "scrolled": false
   },
   "outputs": [
    {
     "data": {
      "text/markdown": [
       "**Общая информация - метод info**"
      ],
      "text/plain": [
       "<IPython.core.display.Markdown object>"
      ]
     },
     "metadata": {},
     "output_type": "display_data"
    },
    {
     "name": "stdout",
     "output_type": "stream",
     "text": [
      "           name     type  NN_Count isnull\n",
      "9         Cabin   object        91 78.23%\n",
      "4           Age  float64       332 20.57%\n",
      "8          Fare  float64       417  0.24%\n",
      "0   PassengerId    int64       418  0.00%\n",
      "1        Pclass    int64       418  0.00%\n",
      "2          Name   object       418  0.00%\n",
      "3           Sex   object       418  0.00%\n",
      "5         SibSp    int64       418  0.00%\n",
      "6         Parch    int64       418  0.00%\n",
      "7        Ticket   object       418  0.00%\n",
      "10     Embarked   object       418  0.00%\n"
     ]
    },
    {
     "data": {
      "text/markdown": [
       "**Описание столбца PassengerId**"
      ],
      "text/plain": [
       "<IPython.core.display.Markdown object>"
      ]
     },
     "metadata": {},
     "output_type": "display_data"
    },
    {
     "name": "stdout",
     "output_type": "stream",
     "text": [
      "count     418.000000\n",
      "mean     1100.500000\n",
      "std       120.810458\n",
      "min       892.000000\n",
      "25%       996.250000\n",
      "50%      1100.500000\n",
      "75%      1204.750000\n",
      "max      1309.000000\n",
      "Name: PassengerId, dtype: float64\n"
     ]
    },
    {
     "data": {
      "text/markdown": [
       "**Описание столбца Pclass**"
      ],
      "text/plain": [
       "<IPython.core.display.Markdown object>"
      ]
     },
     "metadata": {},
     "output_type": "display_data"
    },
    {
     "name": "stdout",
     "output_type": "stream",
     "text": [
      "count    418.000000\n",
      "mean       2.265550\n",
      "std        0.841838\n",
      "min        1.000000\n",
      "25%        1.000000\n",
      "50%        3.000000\n",
      "75%        3.000000\n",
      "max        3.000000\n",
      "Name: Pclass, dtype: float64\n"
     ]
    },
    {
     "data": {
      "text/markdown": [
       "**Описание столбца Name**"
      ],
      "text/plain": [
       "<IPython.core.display.Markdown object>"
      ]
     },
     "metadata": {},
     "output_type": "display_data"
    },
    {
     "name": "stdout",
     "output_type": "stream",
     "text": [
      "count                    418\n",
      "unique                   418\n",
      "top       Pulbaum, Mr. Franz\n",
      "freq                       1\n",
      "Name: Name, dtype: object\n"
     ]
    },
    {
     "data": {
      "text/markdown": [
       "**Описание столбца Sex**"
      ],
      "text/plain": [
       "<IPython.core.display.Markdown object>"
      ]
     },
     "metadata": {},
     "output_type": "display_data"
    },
    {
     "name": "stdout",
     "output_type": "stream",
     "text": [
      "count      418\n",
      "unique       2\n",
      "top       male\n",
      "freq       266\n",
      "Name: Sex, dtype: object\n"
     ]
    },
    {
     "data": {
      "text/markdown": [
       "**Описание столбца Age**"
      ],
      "text/plain": [
       "<IPython.core.display.Markdown object>"
      ]
     },
     "metadata": {},
     "output_type": "display_data"
    },
    {
     "name": "stdout",
     "output_type": "stream",
     "text": [
      "count    332.000000\n",
      "mean      30.272590\n",
      "std       14.181209\n",
      "min        0.170000\n",
      "25%       21.000000\n",
      "50%       27.000000\n",
      "75%       39.000000\n",
      "max       76.000000\n",
      "Name: Age, dtype: float64\n"
     ]
    },
    {
     "data": {
      "text/markdown": [
       "**Описание столбца SibSp**"
      ],
      "text/plain": [
       "<IPython.core.display.Markdown object>"
      ]
     },
     "metadata": {},
     "output_type": "display_data"
    },
    {
     "name": "stdout",
     "output_type": "stream",
     "text": [
      "count    418.000000\n",
      "mean       0.447368\n",
      "std        0.896760\n",
      "min        0.000000\n",
      "25%        0.000000\n",
      "50%        0.000000\n",
      "75%        1.000000\n",
      "max        8.000000\n",
      "Name: SibSp, dtype: float64\n"
     ]
    },
    {
     "data": {
      "text/markdown": [
       "**Описание столбца Parch**"
      ],
      "text/plain": [
       "<IPython.core.display.Markdown object>"
      ]
     },
     "metadata": {},
     "output_type": "display_data"
    },
    {
     "name": "stdout",
     "output_type": "stream",
     "text": [
      "count    418.000000\n",
      "mean       0.392344\n",
      "std        0.981429\n",
      "min        0.000000\n",
      "25%        0.000000\n",
      "50%        0.000000\n",
      "75%        0.000000\n",
      "max        9.000000\n",
      "Name: Parch, dtype: float64\n"
     ]
    },
    {
     "data": {
      "text/markdown": [
       "**Описание столбца Ticket**"
      ],
      "text/plain": [
       "<IPython.core.display.Markdown object>"
      ]
     },
     "metadata": {},
     "output_type": "display_data"
    },
    {
     "name": "stdout",
     "output_type": "stream",
     "text": [
      "count          418\n",
      "unique         363\n",
      "top       PC 17608\n",
      "freq             5\n",
      "Name: Ticket, dtype: object\n"
     ]
    },
    {
     "data": {
      "text/markdown": [
       "**Описание столбца Fare**"
      ],
      "text/plain": [
       "<IPython.core.display.Markdown object>"
      ]
     },
     "metadata": {},
     "output_type": "display_data"
    },
    {
     "name": "stdout",
     "output_type": "stream",
     "text": [
      "count    417.000000\n",
      "mean      35.627188\n",
      "std       55.907576\n",
      "min        0.000000\n",
      "25%        7.895800\n",
      "50%       14.454200\n",
      "75%       31.500000\n",
      "max      512.329200\n",
      "Name: Fare, dtype: float64\n"
     ]
    },
    {
     "data": {
      "text/markdown": [
       "**Описание столбца Cabin**"
      ],
      "text/plain": [
       "<IPython.core.display.Markdown object>"
      ]
     },
     "metadata": {},
     "output_type": "display_data"
    },
    {
     "name": "stdout",
     "output_type": "stream",
     "text": [
      "count                  91\n",
      "unique                 76\n",
      "top       B57 B59 B63 B66\n",
      "freq                    3\n",
      "Name: Cabin, dtype: object\n"
     ]
    },
    {
     "data": {
      "text/markdown": [
       "**Описание столбца Embarked**"
      ],
      "text/plain": [
       "<IPython.core.display.Markdown object>"
      ]
     },
     "metadata": {},
     "output_type": "display_data"
    },
    {
     "name": "stdout",
     "output_type": "stream",
     "text": [
      "count     418\n",
      "unique      3\n",
      "top         S\n",
      "freq      270\n",
      "Name: Embarked, dtype: object\n"
     ]
    },
    {
     "data": {
      "text/markdown": [
       "**Есть ли дубликаты**"
      ],
      "text/plain": [
       "<IPython.core.display.Markdown object>"
      ]
     },
     "metadata": {},
     "output_type": "display_data"
    },
    {
     "name": "stdout",
     "output_type": "stream",
     "text": [
      "0\n"
     ]
    }
   ],
   "source": [
    "file_info(df_test)"
   ]
  },
  {
   "cell_type": "code",
   "execution_count": 5,
   "metadata": {
    "scrolled": false
   },
   "outputs": [
    {
     "data": {
      "text/markdown": [
       "**Общая информация - метод info**"
      ],
      "text/plain": [
       "<IPython.core.display.Markdown object>"
      ]
     },
     "metadata": {},
     "output_type": "display_data"
    },
    {
     "name": "stdout",
     "output_type": "stream",
     "text": [
      "           name     type  NN_Count isnull\n",
      "10        Cabin   object       204 77.10%\n",
      "5           Age  float64       714 19.87%\n",
      "11     Embarked   object       889  0.22%\n",
      "0   PassengerId    int64       891  0.00%\n",
      "1      Survived    int64       891  0.00%\n",
      "2        Pclass    int64       891  0.00%\n",
      "3          Name   object       891  0.00%\n",
      "4           Sex   object       891  0.00%\n",
      "6         SibSp    int64       891  0.00%\n",
      "7         Parch    int64       891  0.00%\n",
      "8        Ticket   object       891  0.00%\n",
      "9          Fare  float64       891  0.00%\n"
     ]
    },
    {
     "data": {
      "text/markdown": [
       "**Описание столбца PassengerId**"
      ],
      "text/plain": [
       "<IPython.core.display.Markdown object>"
      ]
     },
     "metadata": {},
     "output_type": "display_data"
    },
    {
     "name": "stdout",
     "output_type": "stream",
     "text": [
      "count    891.000000\n",
      "mean     446.000000\n",
      "std      257.353842\n",
      "min        1.000000\n",
      "25%      223.500000\n",
      "50%      446.000000\n",
      "75%      668.500000\n",
      "max      891.000000\n",
      "Name: PassengerId, dtype: float64\n"
     ]
    },
    {
     "data": {
      "text/markdown": [
       "**Описание столбца Survived**"
      ],
      "text/plain": [
       "<IPython.core.display.Markdown object>"
      ]
     },
     "metadata": {},
     "output_type": "display_data"
    },
    {
     "name": "stdout",
     "output_type": "stream",
     "text": [
      "count    891.000000\n",
      "mean       0.383838\n",
      "std        0.486592\n",
      "min        0.000000\n",
      "25%        0.000000\n",
      "50%        0.000000\n",
      "75%        1.000000\n",
      "max        1.000000\n",
      "Name: Survived, dtype: float64\n"
     ]
    },
    {
     "data": {
      "text/markdown": [
       "**Описание столбца Pclass**"
      ],
      "text/plain": [
       "<IPython.core.display.Markdown object>"
      ]
     },
     "metadata": {},
     "output_type": "display_data"
    },
    {
     "name": "stdout",
     "output_type": "stream",
     "text": [
      "count    891.000000\n",
      "mean       2.308642\n",
      "std        0.836071\n",
      "min        1.000000\n",
      "25%        2.000000\n",
      "50%        3.000000\n",
      "75%        3.000000\n",
      "max        3.000000\n",
      "Name: Pclass, dtype: float64\n"
     ]
    },
    {
     "data": {
      "text/markdown": [
       "**Описание столбца Name**"
      ],
      "text/plain": [
       "<IPython.core.display.Markdown object>"
      ]
     },
     "metadata": {},
     "output_type": "display_data"
    },
    {
     "name": "stdout",
     "output_type": "stream",
     "text": [
      "count                 891\n",
      "unique                891\n",
      "top       Chip, Mr. Chang\n",
      "freq                    1\n",
      "Name: Name, dtype: object\n"
     ]
    },
    {
     "data": {
      "text/markdown": [
       "**Описание столбца Sex**"
      ],
      "text/plain": [
       "<IPython.core.display.Markdown object>"
      ]
     },
     "metadata": {},
     "output_type": "display_data"
    },
    {
     "name": "stdout",
     "output_type": "stream",
     "text": [
      "count      891\n",
      "unique       2\n",
      "top       male\n",
      "freq       577\n",
      "Name: Sex, dtype: object\n"
     ]
    },
    {
     "data": {
      "text/markdown": [
       "**Описание столбца Age**"
      ],
      "text/plain": [
       "<IPython.core.display.Markdown object>"
      ]
     },
     "metadata": {},
     "output_type": "display_data"
    },
    {
     "name": "stdout",
     "output_type": "stream",
     "text": [
      "count    714.000000\n",
      "mean      29.699118\n",
      "std       14.526497\n",
      "min        0.420000\n",
      "25%       20.125000\n",
      "50%       28.000000\n",
      "75%       38.000000\n",
      "max       80.000000\n",
      "Name: Age, dtype: float64\n"
     ]
    },
    {
     "data": {
      "text/markdown": [
       "**Описание столбца SibSp**"
      ],
      "text/plain": [
       "<IPython.core.display.Markdown object>"
      ]
     },
     "metadata": {},
     "output_type": "display_data"
    },
    {
     "name": "stdout",
     "output_type": "stream",
     "text": [
      "count    891.000000\n",
      "mean       0.523008\n",
      "std        1.102743\n",
      "min        0.000000\n",
      "25%        0.000000\n",
      "50%        0.000000\n",
      "75%        1.000000\n",
      "max        8.000000\n",
      "Name: SibSp, dtype: float64\n"
     ]
    },
    {
     "data": {
      "text/markdown": [
       "**Описание столбца Parch**"
      ],
      "text/plain": [
       "<IPython.core.display.Markdown object>"
      ]
     },
     "metadata": {},
     "output_type": "display_data"
    },
    {
     "name": "stdout",
     "output_type": "stream",
     "text": [
      "count    891.000000\n",
      "mean       0.381594\n",
      "std        0.806057\n",
      "min        0.000000\n",
      "25%        0.000000\n",
      "50%        0.000000\n",
      "75%        0.000000\n",
      "max        6.000000\n",
      "Name: Parch, dtype: float64\n"
     ]
    },
    {
     "data": {
      "text/markdown": [
       "**Описание столбца Ticket**"
      ],
      "text/plain": [
       "<IPython.core.display.Markdown object>"
      ]
     },
     "metadata": {},
     "output_type": "display_data"
    },
    {
     "name": "stdout",
     "output_type": "stream",
     "text": [
      "count      891\n",
      "unique     681\n",
      "top       1601\n",
      "freq         7\n",
      "Name: Ticket, dtype: object\n"
     ]
    },
    {
     "data": {
      "text/markdown": [
       "**Описание столбца Fare**"
      ],
      "text/plain": [
       "<IPython.core.display.Markdown object>"
      ]
     },
     "metadata": {},
     "output_type": "display_data"
    },
    {
     "name": "stdout",
     "output_type": "stream",
     "text": [
      "count    891.000000\n",
      "mean      32.204208\n",
      "std       49.693429\n",
      "min        0.000000\n",
      "25%        7.910400\n",
      "50%       14.454200\n",
      "75%       31.000000\n",
      "max      512.329200\n",
      "Name: Fare, dtype: float64\n"
     ]
    },
    {
     "data": {
      "text/markdown": [
       "**Описание столбца Cabin**"
      ],
      "text/plain": [
       "<IPython.core.display.Markdown object>"
      ]
     },
     "metadata": {},
     "output_type": "display_data"
    },
    {
     "name": "stdout",
     "output_type": "stream",
     "text": [
      "count         204\n",
      "unique        147\n",
      "top       B96 B98\n",
      "freq            4\n",
      "Name: Cabin, dtype: object\n"
     ]
    },
    {
     "data": {
      "text/markdown": [
       "**Описание столбца Embarked**"
      ],
      "text/plain": [
       "<IPython.core.display.Markdown object>"
      ]
     },
     "metadata": {},
     "output_type": "display_data"
    },
    {
     "name": "stdout",
     "output_type": "stream",
     "text": [
      "count     889\n",
      "unique      3\n",
      "top         S\n",
      "freq      644\n",
      "Name: Embarked, dtype: object\n"
     ]
    },
    {
     "data": {
      "text/markdown": [
       "**Есть ли дубликаты**"
      ],
      "text/plain": [
       "<IPython.core.display.Markdown object>"
      ]
     },
     "metadata": {},
     "output_type": "display_data"
    },
    {
     "name": "stdout",
     "output_type": "stream",
     "text": [
      "0\n"
     ]
    }
   ],
   "source": [
    "file_info(df_train)"
   ]
  },
  {
   "cell_type": "code",
   "execution_count": 6,
   "metadata": {},
   "outputs": [],
   "source": [
    "def color_(val):\n",
    "    color = 'black'\n",
    "    if val < -0.2:\n",
    "        color = 'red' \n",
    "    if val > 0.2:\n",
    "        color = 'green' \n",
    "    return 'color: %s' % color"
   ]
  },
  {
   "cell_type": "code",
   "execution_count": 7,
   "metadata": {},
   "outputs": [
    {
     "data": {
      "text/html": [
       "<style  type=\"text/css\" >\n",
       "    #T_4ddbc27b_95a2_11ea_aeab_e4e74985e9c6row0_col0 {\n",
       "            color:  green;\n",
       "        }    #T_4ddbc27b_95a2_11ea_aeab_e4e74985e9c6row0_col1 {\n",
       "            color:  black;\n",
       "        }    #T_4ddbc27b_95a2_11ea_aeab_e4e74985e9c6row0_col2 {\n",
       "            color:  black;\n",
       "        }    #T_4ddbc27b_95a2_11ea_aeab_e4e74985e9c6row0_col3 {\n",
       "            color:  black;\n",
       "        }    #T_4ddbc27b_95a2_11ea_aeab_e4e74985e9c6row0_col4 {\n",
       "            color:  black;\n",
       "        }    #T_4ddbc27b_95a2_11ea_aeab_e4e74985e9c6row0_col5 {\n",
       "            color:  black;\n",
       "        }    #T_4ddbc27b_95a2_11ea_aeab_e4e74985e9c6row1_col0 {\n",
       "            color:  black;\n",
       "        }    #T_4ddbc27b_95a2_11ea_aeab_e4e74985e9c6row1_col1 {\n",
       "            color:  green;\n",
       "        }    #T_4ddbc27b_95a2_11ea_aeab_e4e74985e9c6row1_col2 {\n",
       "            color:  red;\n",
       "        }    #T_4ddbc27b_95a2_11ea_aeab_e4e74985e9c6row1_col3 {\n",
       "            color:  black;\n",
       "        }    #T_4ddbc27b_95a2_11ea_aeab_e4e74985e9c6row1_col4 {\n",
       "            color:  black;\n",
       "        }    #T_4ddbc27b_95a2_11ea_aeab_e4e74985e9c6row1_col5 {\n",
       "            color:  red;\n",
       "        }    #T_4ddbc27b_95a2_11ea_aeab_e4e74985e9c6row2_col0 {\n",
       "            color:  black;\n",
       "        }    #T_4ddbc27b_95a2_11ea_aeab_e4e74985e9c6row2_col1 {\n",
       "            color:  red;\n",
       "        }    #T_4ddbc27b_95a2_11ea_aeab_e4e74985e9c6row2_col2 {\n",
       "            color:  green;\n",
       "        }    #T_4ddbc27b_95a2_11ea_aeab_e4e74985e9c6row2_col3 {\n",
       "            color:  black;\n",
       "        }    #T_4ddbc27b_95a2_11ea_aeab_e4e74985e9c6row2_col4 {\n",
       "            color:  black;\n",
       "        }    #T_4ddbc27b_95a2_11ea_aeab_e4e74985e9c6row2_col5 {\n",
       "            color:  green;\n",
       "        }    #T_4ddbc27b_95a2_11ea_aeab_e4e74985e9c6row3_col0 {\n",
       "            color:  black;\n",
       "        }    #T_4ddbc27b_95a2_11ea_aeab_e4e74985e9c6row3_col1 {\n",
       "            color:  black;\n",
       "        }    #T_4ddbc27b_95a2_11ea_aeab_e4e74985e9c6row3_col2 {\n",
       "            color:  black;\n",
       "        }    #T_4ddbc27b_95a2_11ea_aeab_e4e74985e9c6row3_col3 {\n",
       "            color:  green;\n",
       "        }    #T_4ddbc27b_95a2_11ea_aeab_e4e74985e9c6row3_col4 {\n",
       "            color:  green;\n",
       "        }    #T_4ddbc27b_95a2_11ea_aeab_e4e74985e9c6row3_col5 {\n",
       "            color:  black;\n",
       "        }    #T_4ddbc27b_95a2_11ea_aeab_e4e74985e9c6row4_col0 {\n",
       "            color:  black;\n",
       "        }    #T_4ddbc27b_95a2_11ea_aeab_e4e74985e9c6row4_col1 {\n",
       "            color:  black;\n",
       "        }    #T_4ddbc27b_95a2_11ea_aeab_e4e74985e9c6row4_col2 {\n",
       "            color:  black;\n",
       "        }    #T_4ddbc27b_95a2_11ea_aeab_e4e74985e9c6row4_col3 {\n",
       "            color:  green;\n",
       "        }    #T_4ddbc27b_95a2_11ea_aeab_e4e74985e9c6row4_col4 {\n",
       "            color:  green;\n",
       "        }    #T_4ddbc27b_95a2_11ea_aeab_e4e74985e9c6row4_col5 {\n",
       "            color:  green;\n",
       "        }    #T_4ddbc27b_95a2_11ea_aeab_e4e74985e9c6row5_col0 {\n",
       "            color:  black;\n",
       "        }    #T_4ddbc27b_95a2_11ea_aeab_e4e74985e9c6row5_col1 {\n",
       "            color:  red;\n",
       "        }    #T_4ddbc27b_95a2_11ea_aeab_e4e74985e9c6row5_col2 {\n",
       "            color:  green;\n",
       "        }    #T_4ddbc27b_95a2_11ea_aeab_e4e74985e9c6row5_col3 {\n",
       "            color:  black;\n",
       "        }    #T_4ddbc27b_95a2_11ea_aeab_e4e74985e9c6row5_col4 {\n",
       "            color:  green;\n",
       "        }    #T_4ddbc27b_95a2_11ea_aeab_e4e74985e9c6row5_col5 {\n",
       "            color:  green;\n",
       "        }</style><table id=\"T_4ddbc27b_95a2_11ea_aeab_e4e74985e9c6\" ><thead>    <tr>        <th class=\"blank level0\" ></th>        <th class=\"col_heading level0 col0\" >PassengerId</th>        <th class=\"col_heading level0 col1\" >Pclass</th>        <th class=\"col_heading level0 col2\" >Age</th>        <th class=\"col_heading level0 col3\" >SibSp</th>        <th class=\"col_heading level0 col4\" >Parch</th>        <th class=\"col_heading level0 col5\" >Fare</th>    </tr></thead><tbody>\n",
       "                <tr>\n",
       "                        <th id=\"T_4ddbc27b_95a2_11ea_aeab_e4e74985e9c6level0_row0\" class=\"row_heading level0 row0\" >PassengerId</th>\n",
       "                        <td id=\"T_4ddbc27b_95a2_11ea_aeab_e4e74985e9c6row0_col0\" class=\"data row0 col0\" >1.000000</td>\n",
       "                        <td id=\"T_4ddbc27b_95a2_11ea_aeab_e4e74985e9c6row0_col1\" class=\"data row0 col1\" >-0.026751</td>\n",
       "                        <td id=\"T_4ddbc27b_95a2_11ea_aeab_e4e74985e9c6row0_col2\" class=\"data row0 col2\" >-0.034102</td>\n",
       "                        <td id=\"T_4ddbc27b_95a2_11ea_aeab_e4e74985e9c6row0_col3\" class=\"data row0 col3\" >0.003818</td>\n",
       "                        <td id=\"T_4ddbc27b_95a2_11ea_aeab_e4e74985e9c6row0_col4\" class=\"data row0 col4\" >0.043080</td>\n",
       "                        <td id=\"T_4ddbc27b_95a2_11ea_aeab_e4e74985e9c6row0_col5\" class=\"data row0 col5\" >0.008211</td>\n",
       "            </tr>\n",
       "            <tr>\n",
       "                        <th id=\"T_4ddbc27b_95a2_11ea_aeab_e4e74985e9c6level0_row1\" class=\"row_heading level0 row1\" >Pclass</th>\n",
       "                        <td id=\"T_4ddbc27b_95a2_11ea_aeab_e4e74985e9c6row1_col0\" class=\"data row1 col0\" >-0.026751</td>\n",
       "                        <td id=\"T_4ddbc27b_95a2_11ea_aeab_e4e74985e9c6row1_col1\" class=\"data row1 col1\" >1.000000</td>\n",
       "                        <td id=\"T_4ddbc27b_95a2_11ea_aeab_e4e74985e9c6row1_col2\" class=\"data row1 col2\" >-0.492143</td>\n",
       "                        <td id=\"T_4ddbc27b_95a2_11ea_aeab_e4e74985e9c6row1_col3\" class=\"data row1 col3\" >0.001087</td>\n",
       "                        <td id=\"T_4ddbc27b_95a2_11ea_aeab_e4e74985e9c6row1_col4\" class=\"data row1 col4\" >0.018721</td>\n",
       "                        <td id=\"T_4ddbc27b_95a2_11ea_aeab_e4e74985e9c6row1_col5\" class=\"data row1 col5\" >-0.577147</td>\n",
       "            </tr>\n",
       "            <tr>\n",
       "                        <th id=\"T_4ddbc27b_95a2_11ea_aeab_e4e74985e9c6level0_row2\" class=\"row_heading level0 row2\" >Age</th>\n",
       "                        <td id=\"T_4ddbc27b_95a2_11ea_aeab_e4e74985e9c6row2_col0\" class=\"data row2 col0\" >-0.034102</td>\n",
       "                        <td id=\"T_4ddbc27b_95a2_11ea_aeab_e4e74985e9c6row2_col1\" class=\"data row2 col1\" >-0.492143</td>\n",
       "                        <td id=\"T_4ddbc27b_95a2_11ea_aeab_e4e74985e9c6row2_col2\" class=\"data row2 col2\" >1.000000</td>\n",
       "                        <td id=\"T_4ddbc27b_95a2_11ea_aeab_e4e74985e9c6row2_col3\" class=\"data row2 col3\" >-0.091587</td>\n",
       "                        <td id=\"T_4ddbc27b_95a2_11ea_aeab_e4e74985e9c6row2_col4\" class=\"data row2 col4\" >-0.061249</td>\n",
       "                        <td id=\"T_4ddbc27b_95a2_11ea_aeab_e4e74985e9c6row2_col5\" class=\"data row2 col5\" >0.337932</td>\n",
       "            </tr>\n",
       "            <tr>\n",
       "                        <th id=\"T_4ddbc27b_95a2_11ea_aeab_e4e74985e9c6level0_row3\" class=\"row_heading level0 row3\" >SibSp</th>\n",
       "                        <td id=\"T_4ddbc27b_95a2_11ea_aeab_e4e74985e9c6row3_col0\" class=\"data row3 col0\" >0.003818</td>\n",
       "                        <td id=\"T_4ddbc27b_95a2_11ea_aeab_e4e74985e9c6row3_col1\" class=\"data row3 col1\" >0.001087</td>\n",
       "                        <td id=\"T_4ddbc27b_95a2_11ea_aeab_e4e74985e9c6row3_col2\" class=\"data row3 col2\" >-0.091587</td>\n",
       "                        <td id=\"T_4ddbc27b_95a2_11ea_aeab_e4e74985e9c6row3_col3\" class=\"data row3 col3\" >1.000000</td>\n",
       "                        <td id=\"T_4ddbc27b_95a2_11ea_aeab_e4e74985e9c6row3_col4\" class=\"data row3 col4\" >0.306895</td>\n",
       "                        <td id=\"T_4ddbc27b_95a2_11ea_aeab_e4e74985e9c6row3_col5\" class=\"data row3 col5\" >0.171539</td>\n",
       "            </tr>\n",
       "            <tr>\n",
       "                        <th id=\"T_4ddbc27b_95a2_11ea_aeab_e4e74985e9c6level0_row4\" class=\"row_heading level0 row4\" >Parch</th>\n",
       "                        <td id=\"T_4ddbc27b_95a2_11ea_aeab_e4e74985e9c6row4_col0\" class=\"data row4 col0\" >0.043080</td>\n",
       "                        <td id=\"T_4ddbc27b_95a2_11ea_aeab_e4e74985e9c6row4_col1\" class=\"data row4 col1\" >0.018721</td>\n",
       "                        <td id=\"T_4ddbc27b_95a2_11ea_aeab_e4e74985e9c6row4_col2\" class=\"data row4 col2\" >-0.061249</td>\n",
       "                        <td id=\"T_4ddbc27b_95a2_11ea_aeab_e4e74985e9c6row4_col3\" class=\"data row4 col3\" >0.306895</td>\n",
       "                        <td id=\"T_4ddbc27b_95a2_11ea_aeab_e4e74985e9c6row4_col4\" class=\"data row4 col4\" >1.000000</td>\n",
       "                        <td id=\"T_4ddbc27b_95a2_11ea_aeab_e4e74985e9c6row4_col5\" class=\"data row4 col5\" >0.230046</td>\n",
       "            </tr>\n",
       "            <tr>\n",
       "                        <th id=\"T_4ddbc27b_95a2_11ea_aeab_e4e74985e9c6level0_row5\" class=\"row_heading level0 row5\" >Fare</th>\n",
       "                        <td id=\"T_4ddbc27b_95a2_11ea_aeab_e4e74985e9c6row5_col0\" class=\"data row5 col0\" >0.008211</td>\n",
       "                        <td id=\"T_4ddbc27b_95a2_11ea_aeab_e4e74985e9c6row5_col1\" class=\"data row5 col1\" >-0.577147</td>\n",
       "                        <td id=\"T_4ddbc27b_95a2_11ea_aeab_e4e74985e9c6row5_col2\" class=\"data row5 col2\" >0.337932</td>\n",
       "                        <td id=\"T_4ddbc27b_95a2_11ea_aeab_e4e74985e9c6row5_col3\" class=\"data row5 col3\" >0.171539</td>\n",
       "                        <td id=\"T_4ddbc27b_95a2_11ea_aeab_e4e74985e9c6row5_col4\" class=\"data row5 col4\" >0.230046</td>\n",
       "                        <td id=\"T_4ddbc27b_95a2_11ea_aeab_e4e74985e9c6row5_col5\" class=\"data row5 col5\" >1.000000</td>\n",
       "            </tr>\n",
       "    </tbody></table>"
      ],
      "text/plain": [
       "<pandas.io.formats.style.Styler at 0x21af0f7b7f0>"
      ]
     },
     "execution_count": 7,
     "metadata": {},
     "output_type": "execute_result"
    }
   ],
   "source": [
    "df_test.corr().style.applymap(color_)"
   ]
  },
  {
   "cell_type": "code",
   "execution_count": 8,
   "metadata": {},
   "outputs": [
    {
     "data": {
      "text/html": [
       "<style  type=\"text/css\" >\n",
       "    #T_4ddf905d_95a2_11ea_a4d5_e4e74985e9c6row0_col0 {\n",
       "            color:  green;\n",
       "        }    #T_4ddf905d_95a2_11ea_a4d5_e4e74985e9c6row0_col1 {\n",
       "            color:  black;\n",
       "        }    #T_4ddf905d_95a2_11ea_a4d5_e4e74985e9c6row0_col2 {\n",
       "            color:  black;\n",
       "        }    #T_4ddf905d_95a2_11ea_a4d5_e4e74985e9c6row0_col3 {\n",
       "            color:  black;\n",
       "        }    #T_4ddf905d_95a2_11ea_a4d5_e4e74985e9c6row0_col4 {\n",
       "            color:  black;\n",
       "        }    #T_4ddf905d_95a2_11ea_a4d5_e4e74985e9c6row0_col5 {\n",
       "            color:  black;\n",
       "        }    #T_4ddf905d_95a2_11ea_a4d5_e4e74985e9c6row0_col6 {\n",
       "            color:  black;\n",
       "        }    #T_4ddf905d_95a2_11ea_a4d5_e4e74985e9c6row1_col0 {\n",
       "            color:  black;\n",
       "        }    #T_4ddf905d_95a2_11ea_a4d5_e4e74985e9c6row1_col1 {\n",
       "            color:  green;\n",
       "        }    #T_4ddf905d_95a2_11ea_a4d5_e4e74985e9c6row1_col2 {\n",
       "            color:  red;\n",
       "        }    #T_4ddf905d_95a2_11ea_a4d5_e4e74985e9c6row1_col3 {\n",
       "            color:  black;\n",
       "        }    #T_4ddf905d_95a2_11ea_a4d5_e4e74985e9c6row1_col4 {\n",
       "            color:  black;\n",
       "        }    #T_4ddf905d_95a2_11ea_a4d5_e4e74985e9c6row1_col5 {\n",
       "            color:  black;\n",
       "        }    #T_4ddf905d_95a2_11ea_a4d5_e4e74985e9c6row1_col6 {\n",
       "            color:  green;\n",
       "        }    #T_4ddf905d_95a2_11ea_a4d5_e4e74985e9c6row2_col0 {\n",
       "            color:  black;\n",
       "        }    #T_4ddf905d_95a2_11ea_a4d5_e4e74985e9c6row2_col1 {\n",
       "            color:  red;\n",
       "        }    #T_4ddf905d_95a2_11ea_a4d5_e4e74985e9c6row2_col2 {\n",
       "            color:  green;\n",
       "        }    #T_4ddf905d_95a2_11ea_a4d5_e4e74985e9c6row2_col3 {\n",
       "            color:  red;\n",
       "        }    #T_4ddf905d_95a2_11ea_a4d5_e4e74985e9c6row2_col4 {\n",
       "            color:  black;\n",
       "        }    #T_4ddf905d_95a2_11ea_a4d5_e4e74985e9c6row2_col5 {\n",
       "            color:  black;\n",
       "        }    #T_4ddf905d_95a2_11ea_a4d5_e4e74985e9c6row2_col6 {\n",
       "            color:  red;\n",
       "        }    #T_4ddf905d_95a2_11ea_a4d5_e4e74985e9c6row3_col0 {\n",
       "            color:  black;\n",
       "        }    #T_4ddf905d_95a2_11ea_a4d5_e4e74985e9c6row3_col1 {\n",
       "            color:  black;\n",
       "        }    #T_4ddf905d_95a2_11ea_a4d5_e4e74985e9c6row3_col2 {\n",
       "            color:  red;\n",
       "        }    #T_4ddf905d_95a2_11ea_a4d5_e4e74985e9c6row3_col3 {\n",
       "            color:  green;\n",
       "        }    #T_4ddf905d_95a2_11ea_a4d5_e4e74985e9c6row3_col4 {\n",
       "            color:  red;\n",
       "        }    #T_4ddf905d_95a2_11ea_a4d5_e4e74985e9c6row3_col5 {\n",
       "            color:  black;\n",
       "        }    #T_4ddf905d_95a2_11ea_a4d5_e4e74985e9c6row3_col6 {\n",
       "            color:  black;\n",
       "        }    #T_4ddf905d_95a2_11ea_a4d5_e4e74985e9c6row4_col0 {\n",
       "            color:  black;\n",
       "        }    #T_4ddf905d_95a2_11ea_a4d5_e4e74985e9c6row4_col1 {\n",
       "            color:  black;\n",
       "        }    #T_4ddf905d_95a2_11ea_a4d5_e4e74985e9c6row4_col2 {\n",
       "            color:  black;\n",
       "        }    #T_4ddf905d_95a2_11ea_a4d5_e4e74985e9c6row4_col3 {\n",
       "            color:  red;\n",
       "        }    #T_4ddf905d_95a2_11ea_a4d5_e4e74985e9c6row4_col4 {\n",
       "            color:  green;\n",
       "        }    #T_4ddf905d_95a2_11ea_a4d5_e4e74985e9c6row4_col5 {\n",
       "            color:  green;\n",
       "        }    #T_4ddf905d_95a2_11ea_a4d5_e4e74985e9c6row4_col6 {\n",
       "            color:  black;\n",
       "        }    #T_4ddf905d_95a2_11ea_a4d5_e4e74985e9c6row5_col0 {\n",
       "            color:  black;\n",
       "        }    #T_4ddf905d_95a2_11ea_a4d5_e4e74985e9c6row5_col1 {\n",
       "            color:  black;\n",
       "        }    #T_4ddf905d_95a2_11ea_a4d5_e4e74985e9c6row5_col2 {\n",
       "            color:  black;\n",
       "        }    #T_4ddf905d_95a2_11ea_a4d5_e4e74985e9c6row5_col3 {\n",
       "            color:  black;\n",
       "        }    #T_4ddf905d_95a2_11ea_a4d5_e4e74985e9c6row5_col4 {\n",
       "            color:  green;\n",
       "        }    #T_4ddf905d_95a2_11ea_a4d5_e4e74985e9c6row5_col5 {\n",
       "            color:  green;\n",
       "        }    #T_4ddf905d_95a2_11ea_a4d5_e4e74985e9c6row5_col6 {\n",
       "            color:  green;\n",
       "        }    #T_4ddf905d_95a2_11ea_a4d5_e4e74985e9c6row6_col0 {\n",
       "            color:  black;\n",
       "        }    #T_4ddf905d_95a2_11ea_a4d5_e4e74985e9c6row6_col1 {\n",
       "            color:  green;\n",
       "        }    #T_4ddf905d_95a2_11ea_a4d5_e4e74985e9c6row6_col2 {\n",
       "            color:  red;\n",
       "        }    #T_4ddf905d_95a2_11ea_a4d5_e4e74985e9c6row6_col3 {\n",
       "            color:  black;\n",
       "        }    #T_4ddf905d_95a2_11ea_a4d5_e4e74985e9c6row6_col4 {\n",
       "            color:  black;\n",
       "        }    #T_4ddf905d_95a2_11ea_a4d5_e4e74985e9c6row6_col5 {\n",
       "            color:  green;\n",
       "        }    #T_4ddf905d_95a2_11ea_a4d5_e4e74985e9c6row6_col6 {\n",
       "            color:  green;\n",
       "        }</style><table id=\"T_4ddf905d_95a2_11ea_a4d5_e4e74985e9c6\" ><thead>    <tr>        <th class=\"blank level0\" ></th>        <th class=\"col_heading level0 col0\" >PassengerId</th>        <th class=\"col_heading level0 col1\" >Survived</th>        <th class=\"col_heading level0 col2\" >Pclass</th>        <th class=\"col_heading level0 col3\" >Age</th>        <th class=\"col_heading level0 col4\" >SibSp</th>        <th class=\"col_heading level0 col5\" >Parch</th>        <th class=\"col_heading level0 col6\" >Fare</th>    </tr></thead><tbody>\n",
       "                <tr>\n",
       "                        <th id=\"T_4ddf905d_95a2_11ea_a4d5_e4e74985e9c6level0_row0\" class=\"row_heading level0 row0\" >PassengerId</th>\n",
       "                        <td id=\"T_4ddf905d_95a2_11ea_a4d5_e4e74985e9c6row0_col0\" class=\"data row0 col0\" >1.000000</td>\n",
       "                        <td id=\"T_4ddf905d_95a2_11ea_a4d5_e4e74985e9c6row0_col1\" class=\"data row0 col1\" >-0.005007</td>\n",
       "                        <td id=\"T_4ddf905d_95a2_11ea_a4d5_e4e74985e9c6row0_col2\" class=\"data row0 col2\" >-0.035144</td>\n",
       "                        <td id=\"T_4ddf905d_95a2_11ea_a4d5_e4e74985e9c6row0_col3\" class=\"data row0 col3\" >0.036847</td>\n",
       "                        <td id=\"T_4ddf905d_95a2_11ea_a4d5_e4e74985e9c6row0_col4\" class=\"data row0 col4\" >-0.057527</td>\n",
       "                        <td id=\"T_4ddf905d_95a2_11ea_a4d5_e4e74985e9c6row0_col5\" class=\"data row0 col5\" >-0.001652</td>\n",
       "                        <td id=\"T_4ddf905d_95a2_11ea_a4d5_e4e74985e9c6row0_col6\" class=\"data row0 col6\" >0.012658</td>\n",
       "            </tr>\n",
       "            <tr>\n",
       "                        <th id=\"T_4ddf905d_95a2_11ea_a4d5_e4e74985e9c6level0_row1\" class=\"row_heading level0 row1\" >Survived</th>\n",
       "                        <td id=\"T_4ddf905d_95a2_11ea_a4d5_e4e74985e9c6row1_col0\" class=\"data row1 col0\" >-0.005007</td>\n",
       "                        <td id=\"T_4ddf905d_95a2_11ea_a4d5_e4e74985e9c6row1_col1\" class=\"data row1 col1\" >1.000000</td>\n",
       "                        <td id=\"T_4ddf905d_95a2_11ea_a4d5_e4e74985e9c6row1_col2\" class=\"data row1 col2\" >-0.338481</td>\n",
       "                        <td id=\"T_4ddf905d_95a2_11ea_a4d5_e4e74985e9c6row1_col3\" class=\"data row1 col3\" >-0.077221</td>\n",
       "                        <td id=\"T_4ddf905d_95a2_11ea_a4d5_e4e74985e9c6row1_col4\" class=\"data row1 col4\" >-0.035322</td>\n",
       "                        <td id=\"T_4ddf905d_95a2_11ea_a4d5_e4e74985e9c6row1_col5\" class=\"data row1 col5\" >0.081629</td>\n",
       "                        <td id=\"T_4ddf905d_95a2_11ea_a4d5_e4e74985e9c6row1_col6\" class=\"data row1 col6\" >0.257307</td>\n",
       "            </tr>\n",
       "            <tr>\n",
       "                        <th id=\"T_4ddf905d_95a2_11ea_a4d5_e4e74985e9c6level0_row2\" class=\"row_heading level0 row2\" >Pclass</th>\n",
       "                        <td id=\"T_4ddf905d_95a2_11ea_a4d5_e4e74985e9c6row2_col0\" class=\"data row2 col0\" >-0.035144</td>\n",
       "                        <td id=\"T_4ddf905d_95a2_11ea_a4d5_e4e74985e9c6row2_col1\" class=\"data row2 col1\" >-0.338481</td>\n",
       "                        <td id=\"T_4ddf905d_95a2_11ea_a4d5_e4e74985e9c6row2_col2\" class=\"data row2 col2\" >1.000000</td>\n",
       "                        <td id=\"T_4ddf905d_95a2_11ea_a4d5_e4e74985e9c6row2_col3\" class=\"data row2 col3\" >-0.369226</td>\n",
       "                        <td id=\"T_4ddf905d_95a2_11ea_a4d5_e4e74985e9c6row2_col4\" class=\"data row2 col4\" >0.083081</td>\n",
       "                        <td id=\"T_4ddf905d_95a2_11ea_a4d5_e4e74985e9c6row2_col5\" class=\"data row2 col5\" >0.018443</td>\n",
       "                        <td id=\"T_4ddf905d_95a2_11ea_a4d5_e4e74985e9c6row2_col6\" class=\"data row2 col6\" >-0.549500</td>\n",
       "            </tr>\n",
       "            <tr>\n",
       "                        <th id=\"T_4ddf905d_95a2_11ea_a4d5_e4e74985e9c6level0_row3\" class=\"row_heading level0 row3\" >Age</th>\n",
       "                        <td id=\"T_4ddf905d_95a2_11ea_a4d5_e4e74985e9c6row3_col0\" class=\"data row3 col0\" >0.036847</td>\n",
       "                        <td id=\"T_4ddf905d_95a2_11ea_a4d5_e4e74985e9c6row3_col1\" class=\"data row3 col1\" >-0.077221</td>\n",
       "                        <td id=\"T_4ddf905d_95a2_11ea_a4d5_e4e74985e9c6row3_col2\" class=\"data row3 col2\" >-0.369226</td>\n",
       "                        <td id=\"T_4ddf905d_95a2_11ea_a4d5_e4e74985e9c6row3_col3\" class=\"data row3 col3\" >1.000000</td>\n",
       "                        <td id=\"T_4ddf905d_95a2_11ea_a4d5_e4e74985e9c6row3_col4\" class=\"data row3 col4\" >-0.308247</td>\n",
       "                        <td id=\"T_4ddf905d_95a2_11ea_a4d5_e4e74985e9c6row3_col5\" class=\"data row3 col5\" >-0.189119</td>\n",
       "                        <td id=\"T_4ddf905d_95a2_11ea_a4d5_e4e74985e9c6row3_col6\" class=\"data row3 col6\" >0.096067</td>\n",
       "            </tr>\n",
       "            <tr>\n",
       "                        <th id=\"T_4ddf905d_95a2_11ea_a4d5_e4e74985e9c6level0_row4\" class=\"row_heading level0 row4\" >SibSp</th>\n",
       "                        <td id=\"T_4ddf905d_95a2_11ea_a4d5_e4e74985e9c6row4_col0\" class=\"data row4 col0\" >-0.057527</td>\n",
       "                        <td id=\"T_4ddf905d_95a2_11ea_a4d5_e4e74985e9c6row4_col1\" class=\"data row4 col1\" >-0.035322</td>\n",
       "                        <td id=\"T_4ddf905d_95a2_11ea_a4d5_e4e74985e9c6row4_col2\" class=\"data row4 col2\" >0.083081</td>\n",
       "                        <td id=\"T_4ddf905d_95a2_11ea_a4d5_e4e74985e9c6row4_col3\" class=\"data row4 col3\" >-0.308247</td>\n",
       "                        <td id=\"T_4ddf905d_95a2_11ea_a4d5_e4e74985e9c6row4_col4\" class=\"data row4 col4\" >1.000000</td>\n",
       "                        <td id=\"T_4ddf905d_95a2_11ea_a4d5_e4e74985e9c6row4_col5\" class=\"data row4 col5\" >0.414838</td>\n",
       "                        <td id=\"T_4ddf905d_95a2_11ea_a4d5_e4e74985e9c6row4_col6\" class=\"data row4 col6\" >0.159651</td>\n",
       "            </tr>\n",
       "            <tr>\n",
       "                        <th id=\"T_4ddf905d_95a2_11ea_a4d5_e4e74985e9c6level0_row5\" class=\"row_heading level0 row5\" >Parch</th>\n",
       "                        <td id=\"T_4ddf905d_95a2_11ea_a4d5_e4e74985e9c6row5_col0\" class=\"data row5 col0\" >-0.001652</td>\n",
       "                        <td id=\"T_4ddf905d_95a2_11ea_a4d5_e4e74985e9c6row5_col1\" class=\"data row5 col1\" >0.081629</td>\n",
       "                        <td id=\"T_4ddf905d_95a2_11ea_a4d5_e4e74985e9c6row5_col2\" class=\"data row5 col2\" >0.018443</td>\n",
       "                        <td id=\"T_4ddf905d_95a2_11ea_a4d5_e4e74985e9c6row5_col3\" class=\"data row5 col3\" >-0.189119</td>\n",
       "                        <td id=\"T_4ddf905d_95a2_11ea_a4d5_e4e74985e9c6row5_col4\" class=\"data row5 col4\" >0.414838</td>\n",
       "                        <td id=\"T_4ddf905d_95a2_11ea_a4d5_e4e74985e9c6row5_col5\" class=\"data row5 col5\" >1.000000</td>\n",
       "                        <td id=\"T_4ddf905d_95a2_11ea_a4d5_e4e74985e9c6row5_col6\" class=\"data row5 col6\" >0.216225</td>\n",
       "            </tr>\n",
       "            <tr>\n",
       "                        <th id=\"T_4ddf905d_95a2_11ea_a4d5_e4e74985e9c6level0_row6\" class=\"row_heading level0 row6\" >Fare</th>\n",
       "                        <td id=\"T_4ddf905d_95a2_11ea_a4d5_e4e74985e9c6row6_col0\" class=\"data row6 col0\" >0.012658</td>\n",
       "                        <td id=\"T_4ddf905d_95a2_11ea_a4d5_e4e74985e9c6row6_col1\" class=\"data row6 col1\" >0.257307</td>\n",
       "                        <td id=\"T_4ddf905d_95a2_11ea_a4d5_e4e74985e9c6row6_col2\" class=\"data row6 col2\" >-0.549500</td>\n",
       "                        <td id=\"T_4ddf905d_95a2_11ea_a4d5_e4e74985e9c6row6_col3\" class=\"data row6 col3\" >0.096067</td>\n",
       "                        <td id=\"T_4ddf905d_95a2_11ea_a4d5_e4e74985e9c6row6_col4\" class=\"data row6 col4\" >0.159651</td>\n",
       "                        <td id=\"T_4ddf905d_95a2_11ea_a4d5_e4e74985e9c6row6_col5\" class=\"data row6 col5\" >0.216225</td>\n",
       "                        <td id=\"T_4ddf905d_95a2_11ea_a4d5_e4e74985e9c6row6_col6\" class=\"data row6 col6\" >1.000000</td>\n",
       "            </tr>\n",
       "    </tbody></table>"
      ],
      "text/plain": [
       "<pandas.io.formats.style.Styler at 0x21af0d1deb0>"
      ]
     },
     "execution_count": 8,
     "metadata": {},
     "output_type": "execute_result"
    }
   ],
   "source": [
    "df_train.corr().style.applymap(color_)"
   ]
  },
  {
   "cell_type": "code",
   "execution_count": 9,
   "metadata": {},
   "outputs": [
    {
     "data": {
      "text/html": [
       "<div>\n",
       "<style scoped>\n",
       "    .dataframe tbody tr th:only-of-type {\n",
       "        vertical-align: middle;\n",
       "    }\n",
       "\n",
       "    .dataframe tbody tr th {\n",
       "        vertical-align: top;\n",
       "    }\n",
       "\n",
       "    .dataframe thead th {\n",
       "        text-align: right;\n",
       "    }\n",
       "</style>\n",
       "<table border=\"1\" class=\"dataframe\">\n",
       "  <thead>\n",
       "    <tr style=\"text-align: right;\">\n",
       "      <th>Pclass</th>\n",
       "      <th>1</th>\n",
       "      <th>2</th>\n",
       "      <th>3</th>\n",
       "    </tr>\n",
       "  </thead>\n",
       "  <tbody>\n",
       "    <tr>\n",
       "      <th>Fare</th>\n",
       "      <td>61.3792</td>\n",
       "      <td>15.05</td>\n",
       "      <td>8.05</td>\n",
       "    </tr>\n",
       "  </tbody>\n",
       "</table>\n",
       "</div>"
      ],
      "text/plain": [
       "Pclass        1      2     3\n",
       "Fare    61.3792  15.05  8.05"
      ]
     },
     "execution_count": 9,
     "metadata": {},
     "output_type": "execute_result"
    }
   ],
   "source": [
    "df_full = df_train.append(df_test, ignore_index=True, sort=False)\n",
    "df_fare = pd.pivot_table(df_full.query('Fare != 0'), columns = 'Pclass', values = 'Fare' , aggfunc = 'median')\n",
    "df_fare"
   ]
  },
  {
   "cell_type": "code",
   "execution_count": 10,
   "metadata": {},
   "outputs": [
    {
     "data": {
      "text/html": [
       "<div>\n",
       "<style scoped>\n",
       "    .dataframe tbody tr th:only-of-type {\n",
       "        vertical-align: middle;\n",
       "    }\n",
       "\n",
       "    .dataframe tbody tr th {\n",
       "        vertical-align: top;\n",
       "    }\n",
       "\n",
       "    .dataframe thead th {\n",
       "        text-align: right;\n",
       "    }\n",
       "</style>\n",
       "<table border=\"1\" class=\"dataframe\">\n",
       "  <thead>\n",
       "    <tr style=\"text-align: right;\">\n",
       "      <th></th>\n",
       "      <th>PassengerId</th>\n",
       "      <th>Survived</th>\n",
       "      <th>Pclass</th>\n",
       "      <th>Name</th>\n",
       "      <th>Sex</th>\n",
       "      <th>Age</th>\n",
       "      <th>SibSp</th>\n",
       "      <th>Parch</th>\n",
       "      <th>Ticket</th>\n",
       "      <th>Fare</th>\n",
       "      <th>Cabin</th>\n",
       "      <th>Embarked</th>\n",
       "    </tr>\n",
       "  </thead>\n",
       "  <tbody>\n",
       "    <tr>\n",
       "      <th>0</th>\n",
       "      <td>1</td>\n",
       "      <td>0.0</td>\n",
       "      <td>3</td>\n",
       "      <td>Braund, Mr. Owen Harris</td>\n",
       "      <td>male</td>\n",
       "      <td>22.0</td>\n",
       "      <td>1</td>\n",
       "      <td>0</td>\n",
       "      <td>A/5 21171</td>\n",
       "      <td>7.2500</td>\n",
       "      <td>NaN</td>\n",
       "      <td>S</td>\n",
       "    </tr>\n",
       "    <tr>\n",
       "      <th>1</th>\n",
       "      <td>2</td>\n",
       "      <td>1.0</td>\n",
       "      <td>1</td>\n",
       "      <td>Cumings, Mrs. John Bradley (Florence Briggs Th...</td>\n",
       "      <td>female</td>\n",
       "      <td>38.0</td>\n",
       "      <td>1</td>\n",
       "      <td>0</td>\n",
       "      <td>PC 17599</td>\n",
       "      <td>71.2833</td>\n",
       "      <td>C85</td>\n",
       "      <td>C</td>\n",
       "    </tr>\n",
       "    <tr>\n",
       "      <th>2</th>\n",
       "      <td>3</td>\n",
       "      <td>1.0</td>\n",
       "      <td>3</td>\n",
       "      <td>Heikkinen, Miss. Laina</td>\n",
       "      <td>female</td>\n",
       "      <td>26.0</td>\n",
       "      <td>0</td>\n",
       "      <td>0</td>\n",
       "      <td>STON/O2. 3101282</td>\n",
       "      <td>7.9250</td>\n",
       "      <td>NaN</td>\n",
       "      <td>S</td>\n",
       "    </tr>\n",
       "    <tr>\n",
       "      <th>3</th>\n",
       "      <td>4</td>\n",
       "      <td>1.0</td>\n",
       "      <td>1</td>\n",
       "      <td>Futrelle, Mrs. Jacques Heath (Lily May Peel)</td>\n",
       "      <td>female</td>\n",
       "      <td>35.0</td>\n",
       "      <td>1</td>\n",
       "      <td>0</td>\n",
       "      <td>113803</td>\n",
       "      <td>53.1000</td>\n",
       "      <td>C123</td>\n",
       "      <td>S</td>\n",
       "    </tr>\n",
       "    <tr>\n",
       "      <th>4</th>\n",
       "      <td>5</td>\n",
       "      <td>0.0</td>\n",
       "      <td>3</td>\n",
       "      <td>Allen, Mr. William Henry</td>\n",
       "      <td>male</td>\n",
       "      <td>35.0</td>\n",
       "      <td>0</td>\n",
       "      <td>0</td>\n",
       "      <td>373450</td>\n",
       "      <td>8.0500</td>\n",
       "      <td>NaN</td>\n",
       "      <td>S</td>\n",
       "    </tr>\n",
       "  </tbody>\n",
       "</table>\n",
       "</div>"
      ],
      "text/plain": [
       "   PassengerId  Survived  Pclass                                               Name     Sex   Age  SibSp  Parch            Ticket     Fare Cabin Embarked\n",
       "0            1       0.0       3                            Braund, Mr. Owen Harris    male  22.0      1      0         A/5 21171   7.2500   NaN        S\n",
       "1            2       1.0       1  Cumings, Mrs. John Bradley (Florence Briggs Th...  female  38.0      1      0          PC 17599  71.2833   C85        C\n",
       "2            3       1.0       3                             Heikkinen, Miss. Laina  female  26.0      0      0  STON/O2. 3101282   7.9250   NaN        S\n",
       "3            4       1.0       1       Futrelle, Mrs. Jacques Heath (Lily May Peel)  female  35.0      1      0            113803  53.1000  C123        S\n",
       "4            5       0.0       3                           Allen, Mr. William Henry    male  35.0      0      0            373450   8.0500   NaN        S"
      ]
     },
     "execution_count": 10,
     "metadata": {},
     "output_type": "execute_result"
    }
   ],
   "source": [
    "df_full.head()"
   ]
  },
  {
   "cell_type": "code",
   "execution_count": 11,
   "metadata": {},
   "outputs": [],
   "source": [
    "df_train.loc[(df_train['Fare'] == 0) & (df_train['Pclass'] == 3),'Fare'] = 61.38\n",
    "df_train.loc[(df_train['Fare'] == 0) & (df_train['Pclass'] == 2),'Fare']= 15.05\n",
    "df_train.loc[(df_train['Fare'] == 0) & (df_train['Pclass'] == 1),'Fare'] = 8.05\n",
    "df_test.loc[(df_test['Fare'] == 0) & (df_test['Pclass'] == 3),'Fare'] = 61.38\n",
    "df_test.loc[(df_test['Fare'] == 0) & (df_test['Pclass'] == 2),'Fare'] = 15.05\n",
    "df_test.loc[(df_test['Fare'] == 0) & (df_test['Pclass'] == 1),'Fare'] = 8.05"
   ]
  },
  {
   "cell_type": "code",
   "execution_count": 12,
   "metadata": {},
   "outputs": [
    {
     "data": {
      "text/html": [
       "<div>\n",
       "<style scoped>\n",
       "    .dataframe tbody tr th:only-of-type {\n",
       "        vertical-align: middle;\n",
       "    }\n",
       "\n",
       "    .dataframe tbody tr th {\n",
       "        vertical-align: top;\n",
       "    }\n",
       "\n",
       "    .dataframe thead th {\n",
       "        text-align: right;\n",
       "    }\n",
       "</style>\n",
       "<table border=\"1\" class=\"dataframe\">\n",
       "  <thead>\n",
       "    <tr style=\"text-align: right;\">\n",
       "      <th></th>\n",
       "      <th>PassengerId</th>\n",
       "      <th>Pclass</th>\n",
       "      <th>Name</th>\n",
       "      <th>Sex</th>\n",
       "      <th>Age</th>\n",
       "      <th>SibSp</th>\n",
       "      <th>Parch</th>\n",
       "      <th>Ticket</th>\n",
       "      <th>Fare</th>\n",
       "      <th>Cabin</th>\n",
       "      <th>Embarked</th>\n",
       "    </tr>\n",
       "  </thead>\n",
       "  <tbody>\n",
       "    <tr>\n",
       "      <th>152</th>\n",
       "      <td>1044</td>\n",
       "      <td>3</td>\n",
       "      <td>Storey, Mr. Thomas</td>\n",
       "      <td>male</td>\n",
       "      <td>60.5</td>\n",
       "      <td>0</td>\n",
       "      <td>0</td>\n",
       "      <td>3701</td>\n",
       "      <td>NaN</td>\n",
       "      <td>NaN</td>\n",
       "      <td>S</td>\n",
       "    </tr>\n",
       "  </tbody>\n",
       "</table>\n",
       "</div>"
      ],
      "text/plain": [
       "     PassengerId  Pclass                Name   Sex   Age  SibSp  Parch Ticket  Fare Cabin Embarked\n",
       "152         1044       3  Storey, Mr. Thomas  male  60.5      0      0   3701   NaN   NaN        S"
      ]
     },
     "execution_count": 12,
     "metadata": {},
     "output_type": "execute_result"
    }
   ],
   "source": [
    "df_test[df_test['Fare'].isna()]"
   ]
  },
  {
   "cell_type": "code",
   "execution_count": 13,
   "metadata": {},
   "outputs": [],
   "source": [
    "df_test.loc[152, 'Fare'] = 8.05"
   ]
  },
  {
   "cell_type": "code",
   "execution_count": 14,
   "metadata": {},
   "outputs": [
    {
     "name": "stdout",
     "output_type": "stream",
     "text": [
      "<class 'pandas.core.frame.DataFrame'>\n",
      "RangeIndex: 418 entries, 0 to 417\n",
      "Data columns (total 11 columns):\n",
      " #   Column       Non-Null Count  Dtype  \n",
      "---  ------       --------------  -----  \n",
      " 0   PassengerId  418 non-null    int64  \n",
      " 1   Pclass       418 non-null    int64  \n",
      " 2   Name         418 non-null    object \n",
      " 3   Sex          418 non-null    object \n",
      " 4   Age          332 non-null    float64\n",
      " 5   SibSp        418 non-null    int64  \n",
      " 6   Parch        418 non-null    int64  \n",
      " 7   Ticket       418 non-null    object \n",
      " 8   Fare         418 non-null    float64\n",
      " 9   Cabin        91 non-null     object \n",
      " 10  Embarked     418 non-null    object \n",
      "dtypes: float64(2), int64(4), object(5)\n",
      "memory usage: 36.0+ KB\n"
     ]
    }
   ],
   "source": [
    "df_test.info()"
   ]
  },
  {
   "cell_type": "code",
   "execution_count": 15,
   "metadata": {},
   "outputs": [
    {
     "data": {
      "text/html": [
       "<div>\n",
       "<style scoped>\n",
       "    .dataframe tbody tr th:only-of-type {\n",
       "        vertical-align: middle;\n",
       "    }\n",
       "\n",
       "    .dataframe tbody tr th {\n",
       "        vertical-align: top;\n",
       "    }\n",
       "\n",
       "    .dataframe thead th {\n",
       "        text-align: right;\n",
       "    }\n",
       "</style>\n",
       "<table border=\"1\" class=\"dataframe\">\n",
       "  <thead>\n",
       "    <tr style=\"text-align: right;\">\n",
       "      <th></th>\n",
       "      <th>PassengerId</th>\n",
       "      <th>Survived</th>\n",
       "      <th>Pclass</th>\n",
       "      <th>Name</th>\n",
       "      <th>Sex</th>\n",
       "      <th>Age</th>\n",
       "      <th>SibSp</th>\n",
       "      <th>Parch</th>\n",
       "      <th>Ticket</th>\n",
       "      <th>Fare</th>\n",
       "      <th>Cabin</th>\n",
       "      <th>Embarked</th>\n",
       "    </tr>\n",
       "  </thead>\n",
       "  <tbody>\n",
       "    <tr>\n",
       "      <th>61</th>\n",
       "      <td>62</td>\n",
       "      <td>1.0</td>\n",
       "      <td>1</td>\n",
       "      <td>Icard, Miss. Amelie</td>\n",
       "      <td>female</td>\n",
       "      <td>38.0</td>\n",
       "      <td>0</td>\n",
       "      <td>0</td>\n",
       "      <td>113572</td>\n",
       "      <td>80.0</td>\n",
       "      <td>B28</td>\n",
       "      <td>NaN</td>\n",
       "    </tr>\n",
       "    <tr>\n",
       "      <th>829</th>\n",
       "      <td>830</td>\n",
       "      <td>1.0</td>\n",
       "      <td>1</td>\n",
       "      <td>Stone, Mrs. George Nelson (Martha Evelyn)</td>\n",
       "      <td>female</td>\n",
       "      <td>62.0</td>\n",
       "      <td>0</td>\n",
       "      <td>0</td>\n",
       "      <td>113572</td>\n",
       "      <td>80.0</td>\n",
       "      <td>B28</td>\n",
       "      <td>NaN</td>\n",
       "    </tr>\n",
       "  </tbody>\n",
       "</table>\n",
       "</div>"
      ],
      "text/plain": [
       "     PassengerId  Survived  Pclass                                       Name     Sex   Age  SibSp  Parch  Ticket  Fare Cabin Embarked\n",
       "61            62       1.0       1                        Icard, Miss. Amelie  female  38.0      0      0  113572  80.0   B28      NaN\n",
       "829          830       1.0       1  Stone, Mrs. George Nelson (Martha Evelyn)  female  62.0      0      0  113572  80.0   B28      NaN"
      ]
     },
     "execution_count": 15,
     "metadata": {},
     "output_type": "execute_result"
    }
   ],
   "source": [
    "df_full[df_full['Embarked'].isna()]"
   ]
  },
  {
   "cell_type": "code",
   "execution_count": 16,
   "metadata": {},
   "outputs": [
    {
     "data": {
      "text/plain": [
       "C    29\n",
       "S    23\n",
       "Name: Embarked, dtype: int64"
      ]
     },
     "execution_count": 16,
     "metadata": {},
     "output_type": "execute_result"
    }
   ],
   "source": [
    "df_full.query('Fare > 70 &  Fare < 90  & Pclass == 1')['Embarked'].value_counts()"
   ]
  },
  {
   "cell_type": "code",
   "execution_count": 17,
   "metadata": {},
   "outputs": [],
   "source": [
    "df_train['Embarked'] = df_train['Embarked'].fillna('S')"
   ]
  },
  {
   "cell_type": "code",
   "execution_count": 18,
   "metadata": {},
   "outputs": [
    {
     "data": {
      "text/html": [
       "<div>\n",
       "<style scoped>\n",
       "    .dataframe tbody tr th:only-of-type {\n",
       "        vertical-align: middle;\n",
       "    }\n",
       "\n",
       "    .dataframe tbody tr th {\n",
       "        vertical-align: top;\n",
       "    }\n",
       "\n",
       "    .dataframe thead th {\n",
       "        text-align: right;\n",
       "    }\n",
       "</style>\n",
       "<table border=\"1\" class=\"dataframe\">\n",
       "  <thead>\n",
       "    <tr style=\"text-align: right;\">\n",
       "      <th></th>\n",
       "      <th>PassengerId</th>\n",
       "      <th>Survived</th>\n",
       "      <th>Pclass</th>\n",
       "      <th>Name</th>\n",
       "      <th>Sex</th>\n",
       "      <th>Age</th>\n",
       "      <th>SibSp</th>\n",
       "      <th>Parch</th>\n",
       "      <th>Ticket</th>\n",
       "      <th>Fare</th>\n",
       "      <th>Cabin</th>\n",
       "      <th>Embarked</th>\n",
       "    </tr>\n",
       "  </thead>\n",
       "  <tbody>\n",
       "    <tr>\n",
       "      <th>61</th>\n",
       "      <td>62</td>\n",
       "      <td>1</td>\n",
       "      <td>1</td>\n",
       "      <td>Icard, Miss. Amelie</td>\n",
       "      <td>female</td>\n",
       "      <td>38.0</td>\n",
       "      <td>0</td>\n",
       "      <td>0</td>\n",
       "      <td>113572</td>\n",
       "      <td>80.0</td>\n",
       "      <td>B28</td>\n",
       "      <td>S</td>\n",
       "    </tr>\n",
       "    <tr>\n",
       "      <th>829</th>\n",
       "      <td>830</td>\n",
       "      <td>1</td>\n",
       "      <td>1</td>\n",
       "      <td>Stone, Mrs. George Nelson (Martha Evelyn)</td>\n",
       "      <td>female</td>\n",
       "      <td>62.0</td>\n",
       "      <td>0</td>\n",
       "      <td>0</td>\n",
       "      <td>113572</td>\n",
       "      <td>80.0</td>\n",
       "      <td>B28</td>\n",
       "      <td>S</td>\n",
       "    </tr>\n",
       "  </tbody>\n",
       "</table>\n",
       "</div>"
      ],
      "text/plain": [
       "     PassengerId  Survived  Pclass                                       Name     Sex   Age  SibSp  Parch  Ticket  Fare Cabin Embarked\n",
       "61            62         1       1                        Icard, Miss. Amelie  female  38.0      0      0  113572  80.0   B28        S\n",
       "829          830         1       1  Stone, Mrs. George Nelson (Martha Evelyn)  female  62.0      0      0  113572  80.0   B28        S"
      ]
     },
     "execution_count": 18,
     "metadata": {},
     "output_type": "execute_result"
    }
   ],
   "source": [
    "df_train.query('Ticket == \"113572\"')"
   ]
  },
  {
   "cell_type": "code",
   "execution_count": 19,
   "metadata": {},
   "outputs": [],
   "source": [
    "df_train1 = df_train.drop(['Cabin'], axis = 1 )\n",
    "df_test1 = df_test.drop(['Cabin'], axis = 1 )"
   ]
  },
  {
   "cell_type": "code",
   "execution_count": 20,
   "metadata": {},
   "outputs": [
    {
     "name": "stdout",
     "output_type": "stream",
     "text": [
      "<class 'pandas.core.frame.DataFrame'>\n",
      "RangeIndex: 891 entries, 0 to 890\n",
      "Data columns (total 11 columns):\n",
      " #   Column       Non-Null Count  Dtype  \n",
      "---  ------       --------------  -----  \n",
      " 0   PassengerId  891 non-null    int64  \n",
      " 1   Survived     891 non-null    int64  \n",
      " 2   Pclass       891 non-null    int64  \n",
      " 3   Name         891 non-null    object \n",
      " 4   Sex          891 non-null    object \n",
      " 5   Age          714 non-null    float64\n",
      " 6   SibSp        891 non-null    int64  \n",
      " 7   Parch        891 non-null    int64  \n",
      " 8   Ticket       891 non-null    object \n",
      " 9   Fare         891 non-null    float64\n",
      " 10  Embarked     891 non-null    object \n",
      "dtypes: float64(2), int64(5), object(4)\n",
      "memory usage: 76.7+ KB\n"
     ]
    }
   ],
   "source": [
    "df_train1.info()"
   ]
  },
  {
   "cell_type": "code",
   "execution_count": 21,
   "metadata": {},
   "outputs": [
    {
     "name": "stdout",
     "output_type": "stream",
     "text": [
      "<class 'pandas.core.frame.DataFrame'>\n",
      "RangeIndex: 418 entries, 0 to 417\n",
      "Data columns (total 10 columns):\n",
      " #   Column       Non-Null Count  Dtype  \n",
      "---  ------       --------------  -----  \n",
      " 0   PassengerId  418 non-null    int64  \n",
      " 1   Pclass       418 non-null    int64  \n",
      " 2   Name         418 non-null    object \n",
      " 3   Sex          418 non-null    object \n",
      " 4   Age          332 non-null    float64\n",
      " 5   SibSp        418 non-null    int64  \n",
      " 6   Parch        418 non-null    int64  \n",
      " 7   Ticket       418 non-null    object \n",
      " 8   Fare         418 non-null    float64\n",
      " 9   Embarked     418 non-null    object \n",
      "dtypes: float64(2), int64(4), object(4)\n",
      "memory usage: 32.8+ KB\n"
     ]
    }
   ],
   "source": [
    "df_test1.info()"
   ]
  },
  {
   "cell_type": "code",
   "execution_count": 22,
   "metadata": {},
   "outputs": [
    {
     "data": {
      "text/plain": [
       "male      577\n",
       "female    314\n",
       "Name: Sex, dtype: int64"
      ]
     },
     "execution_count": 22,
     "metadata": {},
     "output_type": "execute_result"
    }
   ],
   "source": [
    "df_train['Sex'].value_counts()"
   ]
  },
  {
   "cell_type": "code",
   "execution_count": 23,
   "metadata": {},
   "outputs": [],
   "source": [
    "df_train['Sex'] = df_train['Sex'].apply(lambda x: 1 if x == 'male' else 0)"
   ]
  },
  {
   "cell_type": "code",
   "execution_count": 24,
   "metadata": {},
   "outputs": [
    {
     "data": {
      "text/plain": [
       "1    577\n",
       "0    314\n",
       "Name: Sex, dtype: int64"
      ]
     },
     "execution_count": 24,
     "metadata": {},
     "output_type": "execute_result"
    }
   ],
   "source": [
    "df_train['Sex'].value_counts()"
   ]
  },
  {
   "cell_type": "code",
   "execution_count": 25,
   "metadata": {},
   "outputs": [
    {
     "data": {
      "text/plain": [
       "male      266\n",
       "female    152\n",
       "Name: Sex, dtype: int64"
      ]
     },
     "execution_count": 25,
     "metadata": {},
     "output_type": "execute_result"
    }
   ],
   "source": [
    "df_test['Sex'].value_counts()"
   ]
  },
  {
   "cell_type": "code",
   "execution_count": 26,
   "metadata": {},
   "outputs": [],
   "source": [
    "df_test['Sex'] = df_test['Sex'].apply(lambda x: 1 if x == 'male' else 0)"
   ]
  },
  {
   "cell_type": "code",
   "execution_count": 27,
   "metadata": {},
   "outputs": [
    {
     "data": {
      "text/plain": [
       "1    266\n",
       "0    152\n",
       "Name: Sex, dtype: int64"
      ]
     },
     "execution_count": 27,
     "metadata": {},
     "output_type": "execute_result"
    }
   ],
   "source": [
    "df_test['Sex'].value_counts()"
   ]
  },
  {
   "cell_type": "markdown",
   "metadata": {},
   "source": [
    "### Восстанавливаем возраст"
   ]
  },
  {
   "cell_type": "code",
   "execution_count": 28,
   "metadata": {},
   "outputs": [
    {
     "name": "stdout",
     "output_type": "stream",
     "text": [
      "<class 'pandas.core.frame.DataFrame'>\n",
      "Int64Index: 1309 entries, 1 to 1309\n",
      "Data columns (total 5 columns):\n",
      " #   Column  Non-Null Count  Dtype  \n",
      "---  ------  --------------  -----  \n",
      " 0   Age     1046 non-null   float64\n",
      " 1   Pclass  1309 non-null   int64  \n",
      " 2   SibSp   1309 non-null   int64  \n",
      " 3   Parch   1309 non-null   int64  \n",
      " 4   Fare    1309 non-null   float64\n",
      "dtypes: float64(2), int64(3)\n",
      "memory usage: 61.4 KB\n"
     ]
    }
   ],
   "source": [
    "age_columns = ['PassengerId','Age','Pclass', 'SibSp', 'Parch', 'Fare']\n",
    "df_age = df_train[age_columns].append(df_test[age_columns], ignore_index=True, sort=False)\n",
    "df_age = df_age.set_index('PassengerId')\n",
    "df_age.info()"
   ]
  },
  {
   "cell_type": "code",
   "execution_count": 29,
   "metadata": {},
   "outputs": [
    {
     "data": {
      "text/html": [
       "<div>\n",
       "<style scoped>\n",
       "    .dataframe tbody tr th:only-of-type {\n",
       "        vertical-align: middle;\n",
       "    }\n",
       "\n",
       "    .dataframe tbody tr th {\n",
       "        vertical-align: top;\n",
       "    }\n",
       "\n",
       "    .dataframe thead th {\n",
       "        text-align: right;\n",
       "    }\n",
       "</style>\n",
       "<table border=\"1\" class=\"dataframe\">\n",
       "  <thead>\n",
       "    <tr style=\"text-align: right;\">\n",
       "      <th></th>\n",
       "      <th>Pclass</th>\n",
       "      <th>SibSp</th>\n",
       "      <th>Parch</th>\n",
       "      <th>Fare</th>\n",
       "    </tr>\n",
       "    <tr>\n",
       "      <th>PassengerId</th>\n",
       "      <th></th>\n",
       "      <th></th>\n",
       "      <th></th>\n",
       "      <th></th>\n",
       "    </tr>\n",
       "  </thead>\n",
       "  <tbody>\n",
       "    <tr>\n",
       "      <th>6</th>\n",
       "      <td>3</td>\n",
       "      <td>0</td>\n",
       "      <td>0</td>\n",
       "      <td>8.4583</td>\n",
       "    </tr>\n",
       "    <tr>\n",
       "      <th>18</th>\n",
       "      <td>2</td>\n",
       "      <td>0</td>\n",
       "      <td>0</td>\n",
       "      <td>13.0000</td>\n",
       "    </tr>\n",
       "    <tr>\n",
       "      <th>20</th>\n",
       "      <td>3</td>\n",
       "      <td>0</td>\n",
       "      <td>0</td>\n",
       "      <td>7.2250</td>\n",
       "    </tr>\n",
       "    <tr>\n",
       "      <th>27</th>\n",
       "      <td>3</td>\n",
       "      <td>0</td>\n",
       "      <td>0</td>\n",
       "      <td>7.2250</td>\n",
       "    </tr>\n",
       "    <tr>\n",
       "      <th>29</th>\n",
       "      <td>3</td>\n",
       "      <td>0</td>\n",
       "      <td>0</td>\n",
       "      <td>7.8792</td>\n",
       "    </tr>\n",
       "  </tbody>\n",
       "</table>\n",
       "</div>"
      ],
      "text/plain": [
       "             Pclass  SibSp  Parch     Fare\n",
       "PassengerId                               \n",
       "6                 3      0      0   8.4583\n",
       "18                2      0      0  13.0000\n",
       "20                3      0      0   7.2250\n",
       "27                3      0      0   7.2250\n",
       "29                3      0      0   7.8792"
      ]
     },
     "execution_count": 29,
     "metadata": {},
     "output_type": "execute_result"
    }
   ],
   "source": [
    "age_columns_ml_1 = df_age[df_age['Age'].isna()].drop('Age', axis=1) #что будем восстанавливать\n",
    "age_columns_ml_1.head()"
   ]
  },
  {
   "cell_type": "code",
   "execution_count": 30,
   "metadata": {},
   "outputs": [
    {
     "name": "stdout",
     "output_type": "stream",
     "text": [
      "<class 'pandas.core.frame.DataFrame'>\n",
      "Int64Index: 1046 entries, 1 to 1307\n",
      "Data columns (total 5 columns):\n",
      " #   Column  Non-Null Count  Dtype  \n",
      "---  ------  --------------  -----  \n",
      " 0   Age     1046 non-null   float64\n",
      " 1   Pclass  1046 non-null   int64  \n",
      " 2   SibSp   1046 non-null   int64  \n",
      " 3   Parch   1046 non-null   int64  \n",
      " 4   Fare    1046 non-null   float64\n",
      "dtypes: float64(2), int64(3)\n",
      "memory usage: 49.0 KB\n"
     ]
    }
   ],
   "source": [
    "age_columns_ml = df_age[~df_age['Age'].isna()]\n",
    "age_columns_ml.info()"
   ]
  },
  {
   "cell_type": "code",
   "execution_count": 31,
   "metadata": {},
   "outputs": [],
   "source": [
    "def df_split(df_tmp, col): # Функция разбивает данные на обучающую и валидационную выборки в соотношении 75:25\n",
    "    df_train_tmp, df_valid_tmp = train_test_split(df_tmp, test_size=0.25, random_state=12345)\n",
    "\n",
    "    train_features_tmp = df_train_tmp.drop([col], axis=1) #тренировочная выборка\n",
    "    train_target_tmp = df_train_tmp[col] #тренировочная выборка\n",
    "\n",
    "    valid_features_tmp = df_valid_tmp.drop([col], axis=1) #валидационная выборка\n",
    "    valid_target_tmp = df_valid_tmp[col] #валидационная выборка\n",
    "    \n",
    "    return  train_features_tmp, train_target_tmp, valid_features_tmp, valid_target_tmp"
   ]
  },
  {
   "cell_type": "code",
   "execution_count": 32,
   "metadata": {},
   "outputs": [],
   "source": [
    "age_columns_ml_train, age_columns_ml_test = train_test_split(age_columns_ml, test_size=0.25, random_state=12345)\n",
    "age_columns_ml_test_features = age_columns_ml_test.drop('Age', axis=1)\n",
    "age_columns_ml_test_target = age_columns_ml_test['Age']\n",
    "age_train_features, age_train_target, age_valid_features, age_valid_target = df_split(age_columns_ml, 'Age')"
   ]
  },
  {
   "cell_type": "markdown",
   "metadata": {},
   "source": [
    "### Восстанавливаем возраст"
   ]
  },
  {
   "cell_type": "markdown",
   "metadata": {},
   "source": [
    "### Линейная регрессия"
   ]
  },
  {
   "cell_type": "code",
   "execution_count": 33,
   "metadata": {},
   "outputs": [
    {
     "name": "stdout",
     "output_type": "stream",
     "text": [
      "Средняя оценка качества модели на обучающей выборке равна 0.1816\n"
     ]
    }
   ],
   "source": [
    "model_lr = LinearRegression()\n",
    "score_lr = cross_val_score(model_lr, age_train_features, age_train_target, cv=3 )\n",
    "print('Средняя оценка качества модели на обучающей выборке равна {:.4f}'.format(score_lr.mean()))"
   ]
  },
  {
   "cell_type": "markdown",
   "metadata": {},
   "source": [
    "### Случайный лес"
   ]
  },
  {
   "cell_type": "code",
   "execution_count": 34,
   "metadata": {},
   "outputs": [
    {
     "name": "stdout",
     "output_type": "stream",
     "text": [
      "{'n_estimators': [2, 4, 6, 8, 10, 12, 14, 16, 18, 20, 22, 24, 26, 28, 30], 'max_features': [1, 2, 3, 4], 'max_depth': [2, 4, 6, 8, 10, 12, 14, 16, 18, 20, None], 'min_samples_split': [2, 5, 10], 'min_samples_leaf': [1, 2, 4], 'bootstrap': [True, False]}\n"
     ]
    }
   ],
   "source": [
    "#Количество деревьев в случайном лесу\n",
    "n_estimators = [int(x) for x in np.linspace(start = 2, stop = 30, num = 15)]\n",
    "#Количество полей , которые необходимо учитывать при каждом разделении\n",
    "max_features = [1, 2, 3, 4]\n",
    "# Максимальное количество уровней в дереве\n",
    "max_depth = [int(x) for x in np.linspace(2, 20, num = 10)]\n",
    "max_depth.append(None)\n",
    "# Минимальное количество выборок, необходимых для разделения узла\n",
    "min_samples_split = [2, 5, 10]\n",
    "# Минимальное количество образцов, необходимое на каждом листовом узле\n",
    "min_samples_leaf = [1, 2, 4]\n",
    "# Способ отбора образцов для обучения каждого дерева\n",
    "bootstrap = [True, False]\n",
    "\n",
    "# Создаем случайную сетку\n",
    "random_grid = {'n_estimators': n_estimators,\n",
    "               'max_features': max_features,\n",
    "               'max_depth': max_depth,\n",
    "               'min_samples_split': min_samples_split,\n",
    "               'min_samples_leaf': min_samples_leaf,\n",
    "               'bootstrap': bootstrap}\n",
    "print(random_grid)"
   ]
  },
  {
   "cell_type": "code",
   "execution_count": 35,
   "metadata": {},
   "outputs": [],
   "source": [
    "# Функция печатает TOP3 лучших результатов\n",
    "def report(results, n_top=3):\n",
    "    for i in range(1, n_top + 1):\n",
    "        candidates = np.flatnonzero(results['rank_test_score'] == i)\n",
    "        for candidate in candidates:\n",
    "            print(\"Model with rank: {0}\".format(i))\n",
    "            print(\"Mean validation score: {0:.3f} (std: {1:.3f})\"\n",
    "                  .format(results['mean_test_score'][candidate],\n",
    "                          results['std_test_score'][candidate]))\n",
    "            print(\"Parameters: {0}\".format(results['params'][candidate]))\n",
    "            print(\"\")"
   ]
  },
  {
   "cell_type": "code",
   "execution_count": 36,
   "metadata": {},
   "outputs": [
    {
     "name": "stdout",
     "output_type": "stream",
     "text": [
      "Время выполнения: 3.58 сек\n"
     ]
    }
   ],
   "source": [
    "start = time() #время выполнения 3 минуты\n",
    "rf = RandomForestRegressor(random_state=12345)\n",
    "# Случайный поиск параметров с кросс-валдицией, поиск с шагом 100 различных комбинаций параметров\n",
    "rf_random = RandomizedSearchCV( estimator = rf, param_distributions = random_grid,   n_iter = 100, cv = 3, \n",
    "                               verbose=0, random_state=12345, n_jobs = -1 )\n",
    "rf_random.fit(age_train_features, age_train_target)\n",
    "rf_random.best_params_\n",
    "\n",
    "print('Время выполнения: {0:0.2f} сек'.format(time() - start))"
   ]
  },
  {
   "cell_type": "code",
   "execution_count": 37,
   "metadata": {},
   "outputs": [
    {
     "name": "stdout",
     "output_type": "stream",
     "text": [
      "Model with rank: 1\n",
      "Mean validation score: 0.277 (std: 0.084)\n",
      "Parameters: {'n_estimators': 8, 'min_samples_split': 2, 'min_samples_leaf': 2, 'max_features': 3, 'max_depth': 4, 'bootstrap': False}\n",
      "\n",
      "Model with rank: 2\n",
      "Mean validation score: 0.270 (std: 0.060)\n",
      "Parameters: {'n_estimators': 30, 'min_samples_split': 5, 'min_samples_leaf': 2, 'max_features': 1, 'max_depth': 4, 'bootstrap': False}\n",
      "\n",
      "Model with rank: 3\n",
      "Mean validation score: 0.267 (std: 0.065)\n",
      "Parameters: {'n_estimators': 16, 'min_samples_split': 10, 'min_samples_leaf': 2, 'max_features': 3, 'max_depth': 4, 'bootstrap': True}\n",
      "\n"
     ]
    }
   ],
   "source": [
    "report(rf_random.cv_results_)"
   ]
  },
  {
   "cell_type": "code",
   "execution_count": 38,
   "metadata": {},
   "outputs": [
    {
     "name": "stdout",
     "output_type": "stream",
     "text": [
      "DecisionTreeRegressor\n",
      "Количетсво моделей  1260\n",
      "Время выполнения: 13.13 сек\n"
     ]
    }
   ],
   "source": [
    "#выполняется 15 минут\n",
    "start = time()\n",
    "print('DecisionTreeRegressor')\n",
    "accuracy_model_DTC = pd.DataFrame(\n",
    "    {'r2' : [], 'max_depth' : [],'min_samples_split' : [],'min_samples_leaf' : [],'max_features' : []})\n",
    "i = 0\n",
    "#Здесь цикл, которые будет переберать параметры алгоритма рещающего дерева для нахождения наилучших результатов\n",
    "#параметры max_features, min_samples_leaf , max_depth, min_samples_split\n",
    "for i_max_depth in range(4,21,2):\n",
    "    for i_min_samples_split in range(2,15,2): #default=2 \n",
    "        for i_min_samples_leaf in range(1,15,3): #default=1 \n",
    "            for i_max_features in range(1,5): #default=Auto \n",
    "                model_dtr = DecisionTreeRegressor(\n",
    "                    random_state=12345, \n",
    "                    max_depth=i_max_depth,\n",
    "                    min_samples_split=i_min_samples_split,\n",
    "                    min_samples_leaf=i_min_samples_leaf,\n",
    "                    max_features=i_max_features)\n",
    "                i = i + 1\n",
    "                dic_tmp = dict()\n",
    "                score_dtr = cross_val_score(\n",
    "                    model_dtr, age_train_features, age_train_target, cv=3, scoring='r2')\n",
    "                dic_tmp['r2'] = score_dtr.mean()\n",
    "                dic_tmp['max_depth'] = i_max_depth\n",
    "                dic_tmp['min_samples_split'] = i_min_samples_split\n",
    "                dic_tmp['min_samples_leaf'] = i_min_samples_leaf\n",
    "                dic_tmp['max_features'] = i_max_features\n",
    "                accuracy_model_DTC = accuracy_model_DTC.append(\n",
    "                    dic_tmp, ignore_index=True)\n",
    "               \n",
    "                \n",
    "print('Количетсво моделей ', i)\n",
    "print('Время выполнения: {0:0.2f} сек'.format(time() - start))"
   ]
  },
  {
   "cell_type": "code",
   "execution_count": 39,
   "metadata": {},
   "outputs": [
    {
     "data": {
      "text/plain": [
       "<matplotlib.axes._subplots.AxesSubplot at 0x21af12e7c10>"
      ]
     },
     "execution_count": 39,
     "metadata": {},
     "output_type": "execute_result"
    },
    {
     "data": {
      "image/png": "[encoded data removed]",
      "text/plain": [
       "<Figure size 1296x432 with 1 Axes>"
      ]
     },
     "metadata": {
      "needs_background": "light"
     },
     "output_type": "display_data"
    }
   ],
   "source": [
    "f, ax = plt.subplots(figsize=(18, 6))\n",
    "accuracy_model_DTC['r2'].hist(bins = 20)"
   ]
  },
  {
   "cell_type": "code",
   "execution_count": 40,
   "metadata": {},
   "outputs": [
    {
     "data": {
      "text/html": [
       "<div>\n",
       "<style scoped>\n",
       "    .dataframe tbody tr th:only-of-type {\n",
       "        vertical-align: middle;\n",
       "    }\n",
       "\n",
       "    .dataframe tbody tr th {\n",
       "        vertical-align: top;\n",
       "    }\n",
       "\n",
       "    .dataframe thead th {\n",
       "        text-align: right;\n",
       "    }\n",
       "</style>\n",
       "<table border=\"1\" class=\"dataframe\">\n",
       "  <thead>\n",
       "    <tr style=\"text-align: right;\">\n",
       "      <th></th>\n",
       "      <th>r2</th>\n",
       "      <th>max_depth</th>\n",
       "      <th>min_samples_split</th>\n",
       "      <th>min_samples_leaf</th>\n",
       "      <th>max_features</th>\n",
       "    </tr>\n",
       "  </thead>\n",
       "  <tbody>\n",
       "    <tr>\n",
       "      <th>123</th>\n",
       "      <td>0.267661</td>\n",
       "      <td>4.0</td>\n",
       "      <td>14.0</td>\n",
       "      <td>1.0</td>\n",
       "      <td>4.0</td>\n",
       "    </tr>\n",
       "  </tbody>\n",
       "</table>\n",
       "</div>"
      ],
      "text/plain": [
       "           r2  max_depth  min_samples_split  min_samples_leaf  max_features\n",
       "123  0.267661        4.0               14.0               1.0           4.0"
      ]
     },
     "execution_count": 40,
     "metadata": {},
     "output_type": "execute_result"
    }
   ],
   "source": [
    "result_r2_DTC_max = accuracy_model_DTC['r2'].max()\n",
    "accuracy_model_DTC.query('r2 == @result_r2_DTC_max')"
   ]
  },
  {
   "cell_type": "code",
   "execution_count": 45,
   "metadata": {},
   "outputs": [],
   "source": [
    "model_dtr_1 = DecisionTreeRegressor(\n",
    "    random_state=12345, \n",
    "    max_depth=4,\n",
    "    min_samples_split=14,\n",
    "    min_samples_leaf=1,\n",
    "    max_features=4)\n",
    "cross_val_score(model_dtr_1, age_train_features, age_train_target, cv=3, scoring='r2')\n",
    "model_dtr_1 = model_dtr_1.fit(age_train_features, age_train_target)"
   ]
  },
  {
   "cell_type": "code",
   "execution_count": 47,
   "metadata": {},
   "outputs": [],
   "source": [
    "model_rfr_1 = RandomForestRegressor(\n",
    "    random_state=12345, \n",
    "    n_estimators = 8,\n",
    "    max_depth=4,\n",
    "    min_samples_split=2,\n",
    "    min_samples_leaf=2,\n",
    "    max_features=3, bootstrap = False)\n",
    "cross_val_score(model_rfr_1, age_train_features, age_train_target, cv=3, scoring='r2')\n",
    "model_rfr_1 = model_rfr_1.fit(age_train_features, age_train_target)"
   ]
  },
  {
   "cell_type": "code",
   "execution_count": 46,
   "metadata": {},
   "outputs": [
    {
     "data": {
      "text/plain": [
       "7.112903225806452"
      ]
     },
     "execution_count": 46,
     "metadata": {},
     "output_type": "execute_result"
    }
   ],
   "source": [
    "predictions_test_dtr = model_dtr_1.predict(age_columns_ml_test_features)\n",
    "median_absolute_error(age_columns_ml_test_target, predictions_test_dtr)"
   ]
  },
  {
   "cell_type": "code",
   "execution_count": 48,
   "metadata": {},
   "outputs": [
    {
     "data": {
      "text/plain": [
       "7.112903225806452"
      ]
     },
     "execution_count": 48,
     "metadata": {},
     "output_type": "execute_result"
    }
   ],
   "source": [
    "predictions_test_rfr = model_rfr_1.predict(age_columns_ml_test_features)\n",
    "median_absolute_error(age_columns_ml_test_target, predictions_test_dtr)"
   ]
  },
  {
   "cell_type": "code",
   "execution_count": 49,
   "metadata": {},
   "outputs": [
    {
     "data": {
      "text/plain": [
       "array([[<matplotlib.axes._subplots.AxesSubplot object at 0x0000021AF1685D60>]],\n",
       "      dtype=object)"
      ]
     },
     "execution_count": 49,
     "metadata": {},
     "output_type": "execute_result"
    },
    {
     "data": {
      "image/png": "[encoded data removed]",
      "text/plain": [
       "<Figure size 432x288 with 1 Axes>"
      ]
     },
     "metadata": {
      "needs_background": "light"
     },
     "output_type": "display_data"
    }
   ],
   "source": [
    "predictions_test_dtr = model_dtr_1.predict(age_columns_ml_1)\n",
    "predictions_age = pd.DataFrame(predictions_test_dtr, columns = ['Age'])\n",
    "predictions_age.hist()"
   ]
  },
  {
   "cell_type": "code",
   "execution_count": 50,
   "metadata": {},
   "outputs": [],
   "source": [
    "age_columns_ml_fill = age_columns_ml_1.reset_index()\n",
    "age_columns_ml_fill['Age'] = predictions_age['Age']"
   ]
  },
  {
   "cell_type": "code",
   "execution_count": 51,
   "metadata": {},
   "outputs": [
    {
     "name": "stdout",
     "output_type": "stream",
     "text": [
      "<class 'pandas.core.frame.DataFrame'>\n",
      "RangeIndex: 263 entries, 0 to 262\n",
      "Data columns (total 6 columns):\n",
      " #   Column       Non-Null Count  Dtype  \n",
      "---  ------       --------------  -----  \n",
      " 0   PassengerId  263 non-null    int64  \n",
      " 1   Pclass       263 non-null    int64  \n",
      " 2   SibSp        263 non-null    int64  \n",
      " 3   Parch        263 non-null    int64  \n",
      " 4   Fare         263 non-null    float64\n",
      " 5   Age          263 non-null    float64\n",
      "dtypes: float64(2), int64(4)\n",
      "memory usage: 12.5 KB\n"
     ]
    }
   ],
   "source": [
    "age_columns_ml_fill.info()"
   ]
  },
  {
   "cell_type": "code",
   "execution_count": 52,
   "metadata": {},
   "outputs": [],
   "source": [
    "age_columns_ml_fill['Age'] = age_columns_ml_fill['Age'].astype('int')"
   ]
  },
  {
   "cell_type": "code",
   "execution_count": 53,
   "metadata": {},
   "outputs": [
    {
     "data": {
      "text/html": [
       "<div>\n",
       "<style scoped>\n",
       "    .dataframe tbody tr th:only-of-type {\n",
       "        vertical-align: middle;\n",
       "    }\n",
       "\n",
       "    .dataframe tbody tr th {\n",
       "        vertical-align: top;\n",
       "    }\n",
       "\n",
       "    .dataframe thead th {\n",
       "        text-align: right;\n",
       "    }\n",
       "</style>\n",
       "<table border=\"1\" class=\"dataframe\">\n",
       "  <thead>\n",
       "    <tr style=\"text-align: right;\">\n",
       "      <th></th>\n",
       "      <th>PassengerId</th>\n",
       "      <th>Pclass</th>\n",
       "      <th>SibSp</th>\n",
       "      <th>Parch</th>\n",
       "      <th>Fare</th>\n",
       "      <th>Age</th>\n",
       "    </tr>\n",
       "  </thead>\n",
       "  <tbody>\n",
       "    <tr>\n",
       "      <th>0</th>\n",
       "      <td>6</td>\n",
       "      <td>3</td>\n",
       "      <td>0</td>\n",
       "      <td>0</td>\n",
       "      <td>8.4583</td>\n",
       "      <td>27</td>\n",
       "    </tr>\n",
       "    <tr>\n",
       "      <th>1</th>\n",
       "      <td>18</td>\n",
       "      <td>2</td>\n",
       "      <td>0</td>\n",
       "      <td>0</td>\n",
       "      <td>13.0000</td>\n",
       "      <td>33</td>\n",
       "    </tr>\n",
       "    <tr>\n",
       "      <th>2</th>\n",
       "      <td>20</td>\n",
       "      <td>3</td>\n",
       "      <td>0</td>\n",
       "      <td>0</td>\n",
       "      <td>7.2250</td>\n",
       "      <td>27</td>\n",
       "    </tr>\n",
       "    <tr>\n",
       "      <th>3</th>\n",
       "      <td>27</td>\n",
       "      <td>3</td>\n",
       "      <td>0</td>\n",
       "      <td>0</td>\n",
       "      <td>7.2250</td>\n",
       "      <td>27</td>\n",
       "    </tr>\n",
       "    <tr>\n",
       "      <th>4</th>\n",
       "      <td>29</td>\n",
       "      <td>3</td>\n",
       "      <td>0</td>\n",
       "      <td>0</td>\n",
       "      <td>7.8792</td>\n",
       "      <td>27</td>\n",
       "    </tr>\n",
       "  </tbody>\n",
       "</table>\n",
       "</div>"
      ],
      "text/plain": [
       "   PassengerId  Pclass  SibSp  Parch     Fare  Age\n",
       "0            6       3      0      0   8.4583   27\n",
       "1           18       2      0      0  13.0000   33\n",
       "2           20       3      0      0   7.2250   27\n",
       "3           27       3      0      0   7.2250   27\n",
       "4           29       3      0      0   7.8792   27"
      ]
     },
     "execution_count": 53,
     "metadata": {},
     "output_type": "execute_result"
    }
   ],
   "source": [
    "age_columns_ml_fill.head()"
   ]
  },
  {
   "cell_type": "code",
   "execution_count": 54,
   "metadata": {},
   "outputs": [],
   "source": [
    "def fill_age(row):\n",
    "    Age = row['Age']\n",
    "    if math.isnan(Age) :\n",
    "        PassengerId_tmp = row['PassengerId']\n",
    "        try:\n",
    "            if math.isnan(age_columns_ml_fill.query('PassengerId == @PassengerId_tmp')['Age'][0]) :\n",
    "                Age = age_columns_ml_fill.query('PassengerId == @PassengerId_tmp')['Age'][0]\n",
    "        except: return Age\n",
    "    return Age"
   ]
  },
  {
   "cell_type": "code",
   "execution_count": 55,
   "metadata": {},
   "outputs": [
    {
     "data": {
      "text/plain": [
       "34.5"
      ]
     },
     "execution_count": 55,
     "metadata": {},
     "output_type": "execute_result"
    }
   ],
   "source": [
    "PassengerId_tmp = 892\n",
    "df_test.query('PassengerId == @PassengerId_tmp')['Age'][0]"
   ]
  },
  {
   "cell_type": "code",
   "execution_count": 56,
   "metadata": {},
   "outputs": [
    {
     "data": {
      "text/html": [
       "<div>\n",
       "<style scoped>\n",
       "    .dataframe tbody tr th:only-of-type {\n",
       "        vertical-align: middle;\n",
       "    }\n",
       "\n",
       "    .dataframe tbody tr th {\n",
       "        vertical-align: top;\n",
       "    }\n",
       "\n",
       "    .dataframe thead th {\n",
       "        text-align: right;\n",
       "    }\n",
       "</style>\n",
       "<table border=\"1\" class=\"dataframe\">\n",
       "  <thead>\n",
       "    <tr style=\"text-align: right;\">\n",
       "      <th></th>\n",
       "      <th>PassengerId</th>\n",
       "      <th>Pclass</th>\n",
       "      <th>Name</th>\n",
       "      <th>Sex</th>\n",
       "      <th>Age</th>\n",
       "      <th>SibSp</th>\n",
       "      <th>Parch</th>\n",
       "      <th>Ticket</th>\n",
       "      <th>Fare</th>\n",
       "      <th>Cabin</th>\n",
       "      <th>Embarked</th>\n",
       "    </tr>\n",
       "  </thead>\n",
       "  <tbody>\n",
       "    <tr>\n",
       "      <th>0</th>\n",
       "      <td>892</td>\n",
       "      <td>3</td>\n",
       "      <td>Kelly, Mr. James</td>\n",
       "      <td>1</td>\n",
       "      <td>34.5</td>\n",
       "      <td>0</td>\n",
       "      <td>0</td>\n",
       "      <td>330911</td>\n",
       "      <td>7.8292</td>\n",
       "      <td>NaN</td>\n",
       "      <td>Q</td>\n",
       "    </tr>\n",
       "    <tr>\n",
       "      <th>1</th>\n",
       "      <td>893</td>\n",
       "      <td>3</td>\n",
       "      <td>Wilkes, Mrs. James (Ellen Needs)</td>\n",
       "      <td>0</td>\n",
       "      <td>47.0</td>\n",
       "      <td>1</td>\n",
       "      <td>0</td>\n",
       "      <td>363272</td>\n",
       "      <td>7.0000</td>\n",
       "      <td>NaN</td>\n",
       "      <td>S</td>\n",
       "    </tr>\n",
       "    <tr>\n",
       "      <th>2</th>\n",
       "      <td>894</td>\n",
       "      <td>2</td>\n",
       "      <td>Myles, Mr. Thomas Francis</td>\n",
       "      <td>1</td>\n",
       "      <td>62.0</td>\n",
       "      <td>0</td>\n",
       "      <td>0</td>\n",
       "      <td>240276</td>\n",
       "      <td>9.6875</td>\n",
       "      <td>NaN</td>\n",
       "      <td>Q</td>\n",
       "    </tr>\n",
       "    <tr>\n",
       "      <th>3</th>\n",
       "      <td>895</td>\n",
       "      <td>3</td>\n",
       "      <td>Wirz, Mr. Albert</td>\n",
       "      <td>1</td>\n",
       "      <td>27.0</td>\n",
       "      <td>0</td>\n",
       "      <td>0</td>\n",
       "      <td>315154</td>\n",
       "      <td>8.6625</td>\n",
       "      <td>NaN</td>\n",
       "      <td>S</td>\n",
       "    </tr>\n",
       "    <tr>\n",
       "      <th>4</th>\n",
       "      <td>896</td>\n",
       "      <td>3</td>\n",
       "      <td>Hirvonen, Mrs. Alexander (Helga E Lindqvist)</td>\n",
       "      <td>0</td>\n",
       "      <td>22.0</td>\n",
       "      <td>1</td>\n",
       "      <td>1</td>\n",
       "      <td>3101298</td>\n",
       "      <td>12.2875</td>\n",
       "      <td>NaN</td>\n",
       "      <td>S</td>\n",
       "    </tr>\n",
       "    <tr>\n",
       "      <th>5</th>\n",
       "      <td>897</td>\n",
       "      <td>3</td>\n",
       "      <td>Svensson, Mr. Johan Cervin</td>\n",
       "      <td>1</td>\n",
       "      <td>14.0</td>\n",
       "      <td>0</td>\n",
       "      <td>0</td>\n",
       "      <td>7538</td>\n",
       "      <td>9.2250</td>\n",
       "      <td>NaN</td>\n",
       "      <td>S</td>\n",
       "    </tr>\n",
       "    <tr>\n",
       "      <th>6</th>\n",
       "      <td>898</td>\n",
       "      <td>3</td>\n",
       "      <td>Connolly, Miss. Kate</td>\n",
       "      <td>0</td>\n",
       "      <td>30.0</td>\n",
       "      <td>0</td>\n",
       "      <td>0</td>\n",
       "      <td>330972</td>\n",
       "      <td>7.6292</td>\n",
       "      <td>NaN</td>\n",
       "      <td>Q</td>\n",
       "    </tr>\n",
       "    <tr>\n",
       "      <th>7</th>\n",
       "      <td>899</td>\n",
       "      <td>2</td>\n",
       "      <td>Caldwell, Mr. Albert Francis</td>\n",
       "      <td>1</td>\n",
       "      <td>26.0</td>\n",
       "      <td>1</td>\n",
       "      <td>1</td>\n",
       "      <td>248738</td>\n",
       "      <td>29.0000</td>\n",
       "      <td>NaN</td>\n",
       "      <td>S</td>\n",
       "    </tr>\n",
       "    <tr>\n",
       "      <th>8</th>\n",
       "      <td>900</td>\n",
       "      <td>3</td>\n",
       "      <td>Abrahim, Mrs. Joseph (Sophie Halaut Easu)</td>\n",
       "      <td>0</td>\n",
       "      <td>18.0</td>\n",
       "      <td>0</td>\n",
       "      <td>0</td>\n",
       "      <td>2657</td>\n",
       "      <td>7.2292</td>\n",
       "      <td>NaN</td>\n",
       "      <td>C</td>\n",
       "    </tr>\n",
       "    <tr>\n",
       "      <th>9</th>\n",
       "      <td>901</td>\n",
       "      <td>3</td>\n",
       "      <td>Davies, Mr. John Samuel</td>\n",
       "      <td>1</td>\n",
       "      <td>21.0</td>\n",
       "      <td>2</td>\n",
       "      <td>0</td>\n",
       "      <td>A/4 48871</td>\n",
       "      <td>24.1500</td>\n",
       "      <td>NaN</td>\n",
       "      <td>S</td>\n",
       "    </tr>\n",
       "    <tr>\n",
       "      <th>10</th>\n",
       "      <td>902</td>\n",
       "      <td>3</td>\n",
       "      <td>Ilieff, Mr. Ylio</td>\n",
       "      <td>1</td>\n",
       "      <td>NaN</td>\n",
       "      <td>0</td>\n",
       "      <td>0</td>\n",
       "      <td>349220</td>\n",
       "      <td>7.8958</td>\n",
       "      <td>NaN</td>\n",
       "      <td>S</td>\n",
       "    </tr>\n",
       "  </tbody>\n",
       "</table>\n",
       "</div>"
      ],
      "text/plain": [
       "    PassengerId  Pclass                                          Name  Sex   Age  SibSp  Parch     Ticket     Fare Cabin Embarked\n",
       "0           892       3                              Kelly, Mr. James    1  34.5      0      0     330911   7.8292   NaN        Q\n",
       "1           893       3              Wilkes, Mrs. James (Ellen Needs)    0  47.0      1      0     363272   7.0000   NaN        S\n",
       "2           894       2                     Myles, Mr. Thomas Francis    1  62.0      0      0     240276   9.6875   NaN        Q\n",
       "3           895       3                              Wirz, Mr. Albert    1  27.0      0      0     315154   8.6625   NaN        S\n",
       "4           896       3  Hirvonen, Mrs. Alexander (Helga E Lindqvist)    0  22.0      1      1    3101298  12.2875   NaN        S\n",
       "5           897       3                    Svensson, Mr. Johan Cervin    1  14.0      0      0       7538   9.2250   NaN        S\n",
       "6           898       3                          Connolly, Miss. Kate    0  30.0      0      0     330972   7.6292   NaN        Q\n",
       "7           899       2                  Caldwell, Mr. Albert Francis    1  26.0      1      1     248738  29.0000   NaN        S\n",
       "8           900       3     Abrahim, Mrs. Joseph (Sophie Halaut Easu)    0  18.0      0      0       2657   7.2292   NaN        C\n",
       "9           901       3                       Davies, Mr. John Samuel    1  21.0      2      0  A/4 48871  24.1500   NaN        S\n",
       "10          902       3                              Ilieff, Mr. Ylio    1   NaN      0      0     349220   7.8958   NaN        S"
      ]
     },
     "execution_count": 56,
     "metadata": {},
     "output_type": "execute_result"
    }
   ],
   "source": [
    "df_test.head(11)"
   ]
  },
  {
   "cell_type": "code",
   "execution_count": 57,
   "metadata": {},
   "outputs": [
    {
     "data": {
      "text/html": [
       "<div>\n",
       "<style scoped>\n",
       "    .dataframe tbody tr th:only-of-type {\n",
       "        vertical-align: middle;\n",
       "    }\n",
       "\n",
       "    .dataframe tbody tr th {\n",
       "        vertical-align: top;\n",
       "    }\n",
       "\n",
       "    .dataframe thead th {\n",
       "        text-align: right;\n",
       "    }\n",
       "</style>\n",
       "<table border=\"1\" class=\"dataframe\">\n",
       "  <thead>\n",
       "    <tr style=\"text-align: right;\">\n",
       "      <th></th>\n",
       "      <th>PassengerId</th>\n",
       "      <th>Pclass</th>\n",
       "      <th>Name</th>\n",
       "      <th>Sex</th>\n",
       "      <th>Age</th>\n",
       "      <th>SibSp</th>\n",
       "      <th>Parch</th>\n",
       "      <th>Ticket</th>\n",
       "      <th>Fare</th>\n",
       "      <th>Cabin</th>\n",
       "      <th>Embarked</th>\n",
       "    </tr>\n",
       "  </thead>\n",
       "  <tbody>\n",
       "    <tr>\n",
       "      <th>0</th>\n",
       "      <td>892</td>\n",
       "      <td>3</td>\n",
       "      <td>Kelly, Mr. James</td>\n",
       "      <td>1</td>\n",
       "      <td>34.5</td>\n",
       "      <td>0</td>\n",
       "      <td>0</td>\n",
       "      <td>330911</td>\n",
       "      <td>7.8292</td>\n",
       "      <td>NaN</td>\n",
       "      <td>Q</td>\n",
       "    </tr>\n",
       "    <tr>\n",
       "      <th>1</th>\n",
       "      <td>893</td>\n",
       "      <td>3</td>\n",
       "      <td>Wilkes, Mrs. James (Ellen Needs)</td>\n",
       "      <td>0</td>\n",
       "      <td>47.0</td>\n",
       "      <td>1</td>\n",
       "      <td>0</td>\n",
       "      <td>363272</td>\n",
       "      <td>7.0000</td>\n",
       "      <td>NaN</td>\n",
       "      <td>S</td>\n",
       "    </tr>\n",
       "    <tr>\n",
       "      <th>2</th>\n",
       "      <td>894</td>\n",
       "      <td>2</td>\n",
       "      <td>Myles, Mr. Thomas Francis</td>\n",
       "      <td>1</td>\n",
       "      <td>62.0</td>\n",
       "      <td>0</td>\n",
       "      <td>0</td>\n",
       "      <td>240276</td>\n",
       "      <td>9.6875</td>\n",
       "      <td>NaN</td>\n",
       "      <td>Q</td>\n",
       "    </tr>\n",
       "    <tr>\n",
       "      <th>3</th>\n",
       "      <td>895</td>\n",
       "      <td>3</td>\n",
       "      <td>Wirz, Mr. Albert</td>\n",
       "      <td>1</td>\n",
       "      <td>27.0</td>\n",
       "      <td>0</td>\n",
       "      <td>0</td>\n",
       "      <td>315154</td>\n",
       "      <td>8.6625</td>\n",
       "      <td>NaN</td>\n",
       "      <td>S</td>\n",
       "    </tr>\n",
       "    <tr>\n",
       "      <th>4</th>\n",
       "      <td>896</td>\n",
       "      <td>3</td>\n",
       "      <td>Hirvonen, Mrs. Alexander (Helga E Lindqvist)</td>\n",
       "      <td>0</td>\n",
       "      <td>22.0</td>\n",
       "      <td>1</td>\n",
       "      <td>1</td>\n",
       "      <td>3101298</td>\n",
       "      <td>12.2875</td>\n",
       "      <td>NaN</td>\n",
       "      <td>S</td>\n",
       "    </tr>\n",
       "    <tr>\n",
       "      <th>5</th>\n",
       "      <td>897</td>\n",
       "      <td>3</td>\n",
       "      <td>Svensson, Mr. Johan Cervin</td>\n",
       "      <td>1</td>\n",
       "      <td>14.0</td>\n",
       "      <td>0</td>\n",
       "      <td>0</td>\n",
       "      <td>7538</td>\n",
       "      <td>9.2250</td>\n",
       "      <td>NaN</td>\n",
       "      <td>S</td>\n",
       "    </tr>\n",
       "    <tr>\n",
       "      <th>6</th>\n",
       "      <td>898</td>\n",
       "      <td>3</td>\n",
       "      <td>Connolly, Miss. Kate</td>\n",
       "      <td>0</td>\n",
       "      <td>30.0</td>\n",
       "      <td>0</td>\n",
       "      <td>0</td>\n",
       "      <td>330972</td>\n",
       "      <td>7.6292</td>\n",
       "      <td>NaN</td>\n",
       "      <td>Q</td>\n",
       "    </tr>\n",
       "    <tr>\n",
       "      <th>7</th>\n",
       "      <td>899</td>\n",
       "      <td>2</td>\n",
       "      <td>Caldwell, Mr. Albert Francis</td>\n",
       "      <td>1</td>\n",
       "      <td>26.0</td>\n",
       "      <td>1</td>\n",
       "      <td>1</td>\n",
       "      <td>248738</td>\n",
       "      <td>29.0000</td>\n",
       "      <td>NaN</td>\n",
       "      <td>S</td>\n",
       "    </tr>\n",
       "    <tr>\n",
       "      <th>8</th>\n",
       "      <td>900</td>\n",
       "      <td>3</td>\n",
       "      <td>Abrahim, Mrs. Joseph (Sophie Halaut Easu)</td>\n",
       "      <td>0</td>\n",
       "      <td>18.0</td>\n",
       "      <td>0</td>\n",
       "      <td>0</td>\n",
       "      <td>2657</td>\n",
       "      <td>7.2292</td>\n",
       "      <td>NaN</td>\n",
       "      <td>C</td>\n",
       "    </tr>\n",
       "    <tr>\n",
       "      <th>9</th>\n",
       "      <td>901</td>\n",
       "      <td>3</td>\n",
       "      <td>Davies, Mr. John Samuel</td>\n",
       "      <td>1</td>\n",
       "      <td>21.0</td>\n",
       "      <td>2</td>\n",
       "      <td>0</td>\n",
       "      <td>A/4 48871</td>\n",
       "      <td>24.1500</td>\n",
       "      <td>NaN</td>\n",
       "      <td>S</td>\n",
       "    </tr>\n",
       "    <tr>\n",
       "      <th>10</th>\n",
       "      <td>902</td>\n",
       "      <td>3</td>\n",
       "      <td>Ilieff, Mr. Ylio</td>\n",
       "      <td>1</td>\n",
       "      <td>27.0</td>\n",
       "      <td>0</td>\n",
       "      <td>0</td>\n",
       "      <td>349220</td>\n",
       "      <td>7.8958</td>\n",
       "      <td>NaN</td>\n",
       "      <td>S</td>\n",
       "    </tr>\n",
       "  </tbody>\n",
       "</table>\n",
       "</div>"
      ],
      "text/plain": [
       "    PassengerId  Pclass                                          Name  Sex   Age  SibSp  Parch     Ticket     Fare Cabin Embarked\n",
       "0           892       3                              Kelly, Mr. James    1  34.5      0      0     330911   7.8292   NaN        Q\n",
       "1           893       3              Wilkes, Mrs. James (Ellen Needs)    0  47.0      1      0     363272   7.0000   NaN        S\n",
       "2           894       2                     Myles, Mr. Thomas Francis    1  62.0      0      0     240276   9.6875   NaN        Q\n",
       "3           895       3                              Wirz, Mr. Albert    1  27.0      0      0     315154   8.6625   NaN        S\n",
       "4           896       3  Hirvonen, Mrs. Alexander (Helga E Lindqvist)    0  22.0      1      1    3101298  12.2875   NaN        S\n",
       "5           897       3                    Svensson, Mr. Johan Cervin    1  14.0      0      0       7538   9.2250   NaN        S\n",
       "6           898       3                          Connolly, Miss. Kate    0  30.0      0      0     330972   7.6292   NaN        Q\n",
       "7           899       2                  Caldwell, Mr. Albert Francis    1  26.0      1      1     248738  29.0000   NaN        S\n",
       "8           900       3     Abrahim, Mrs. Joseph (Sophie Halaut Easu)    0  18.0      0      0       2657   7.2292   NaN        C\n",
       "9           901       3                       Davies, Mr. John Samuel    1  21.0      2      0  A/4 48871  24.1500   NaN        S\n",
       "10          902       3                              Ilieff, Mr. Ylio    1  27.0      0      0     349220   7.8958   NaN        S"
      ]
     },
     "execution_count": 57,
     "metadata": {},
     "output_type": "execute_result"
    }
   ],
   "source": [
    "age_columns_ml_fill = age_columns_ml_fill.set_index('PassengerId')\n",
    "\n",
    "df_test = df_test.set_index('PassengerId')\n",
    "df_test['Age'] = df_test['Age'].fillna(value=age_columns_ml_fill.Age)\n",
    "df_test = df_test.reset_index()\n",
    "df_test.head(11)"
   ]
  },
  {
   "cell_type": "code",
   "execution_count": 58,
   "metadata": {},
   "outputs": [
    {
     "data": {
      "text/html": [
       "<div>\n",
       "<style scoped>\n",
       "    .dataframe tbody tr th:only-of-type {\n",
       "        vertical-align: middle;\n",
       "    }\n",
       "\n",
       "    .dataframe tbody tr th {\n",
       "        vertical-align: top;\n",
       "    }\n",
       "\n",
       "    .dataframe thead th {\n",
       "        text-align: right;\n",
       "    }\n",
       "</style>\n",
       "<table border=\"1\" class=\"dataframe\">\n",
       "  <thead>\n",
       "    <tr style=\"text-align: right;\">\n",
       "      <th></th>\n",
       "      <th>PassengerId</th>\n",
       "      <th>Survived</th>\n",
       "      <th>Pclass</th>\n",
       "      <th>Name</th>\n",
       "      <th>Sex</th>\n",
       "      <th>Age</th>\n",
       "      <th>SibSp</th>\n",
       "      <th>Parch</th>\n",
       "      <th>Ticket</th>\n",
       "      <th>Fare</th>\n",
       "      <th>Cabin</th>\n",
       "      <th>Embarked</th>\n",
       "    </tr>\n",
       "  </thead>\n",
       "  <tbody>\n",
       "    <tr>\n",
       "      <th>0</th>\n",
       "      <td>1</td>\n",
       "      <td>0</td>\n",
       "      <td>3</td>\n",
       "      <td>Braund, Mr. Owen Harris</td>\n",
       "      <td>1</td>\n",
       "      <td>22.0</td>\n",
       "      <td>1</td>\n",
       "      <td>0</td>\n",
       "      <td>A/5 21171</td>\n",
       "      <td>7.2500</td>\n",
       "      <td>NaN</td>\n",
       "      <td>S</td>\n",
       "    </tr>\n",
       "    <tr>\n",
       "      <th>1</th>\n",
       "      <td>2</td>\n",
       "      <td>1</td>\n",
       "      <td>1</td>\n",
       "      <td>Cumings, Mrs. John Bradley (Florence Briggs Th...</td>\n",
       "      <td>0</td>\n",
       "      <td>38.0</td>\n",
       "      <td>1</td>\n",
       "      <td>0</td>\n",
       "      <td>PC 17599</td>\n",
       "      <td>71.2833</td>\n",
       "      <td>C85</td>\n",
       "      <td>C</td>\n",
       "    </tr>\n",
       "    <tr>\n",
       "      <th>2</th>\n",
       "      <td>3</td>\n",
       "      <td>1</td>\n",
       "      <td>3</td>\n",
       "      <td>Heikkinen, Miss. Laina</td>\n",
       "      <td>0</td>\n",
       "      <td>26.0</td>\n",
       "      <td>0</td>\n",
       "      <td>0</td>\n",
       "      <td>STON/O2. 3101282</td>\n",
       "      <td>7.9250</td>\n",
       "      <td>NaN</td>\n",
       "      <td>S</td>\n",
       "    </tr>\n",
       "    <tr>\n",
       "      <th>3</th>\n",
       "      <td>4</td>\n",
       "      <td>1</td>\n",
       "      <td>1</td>\n",
       "      <td>Futrelle, Mrs. Jacques Heath (Lily May Peel)</td>\n",
       "      <td>0</td>\n",
       "      <td>35.0</td>\n",
       "      <td>1</td>\n",
       "      <td>0</td>\n",
       "      <td>113803</td>\n",
       "      <td>53.1000</td>\n",
       "      <td>C123</td>\n",
       "      <td>S</td>\n",
       "    </tr>\n",
       "    <tr>\n",
       "      <th>4</th>\n",
       "      <td>5</td>\n",
       "      <td>0</td>\n",
       "      <td>3</td>\n",
       "      <td>Allen, Mr. William Henry</td>\n",
       "      <td>1</td>\n",
       "      <td>35.0</td>\n",
       "      <td>0</td>\n",
       "      <td>0</td>\n",
       "      <td>373450</td>\n",
       "      <td>8.0500</td>\n",
       "      <td>NaN</td>\n",
       "      <td>S</td>\n",
       "    </tr>\n",
       "    <tr>\n",
       "      <th>5</th>\n",
       "      <td>6</td>\n",
       "      <td>0</td>\n",
       "      <td>3</td>\n",
       "      <td>Moran, Mr. James</td>\n",
       "      <td>1</td>\n",
       "      <td>NaN</td>\n",
       "      <td>0</td>\n",
       "      <td>0</td>\n",
       "      <td>330877</td>\n",
       "      <td>8.4583</td>\n",
       "      <td>NaN</td>\n",
       "      <td>Q</td>\n",
       "    </tr>\n",
       "    <tr>\n",
       "      <th>6</th>\n",
       "      <td>7</td>\n",
       "      <td>0</td>\n",
       "      <td>1</td>\n",
       "      <td>McCarthy, Mr. Timothy J</td>\n",
       "      <td>1</td>\n",
       "      <td>54.0</td>\n",
       "      <td>0</td>\n",
       "      <td>0</td>\n",
       "      <td>17463</td>\n",
       "      <td>51.8625</td>\n",
       "      <td>E46</td>\n",
       "      <td>S</td>\n",
       "    </tr>\n",
       "    <tr>\n",
       "      <th>7</th>\n",
       "      <td>8</td>\n",
       "      <td>0</td>\n",
       "      <td>3</td>\n",
       "      <td>Palsson, Master. Gosta Leonard</td>\n",
       "      <td>1</td>\n",
       "      <td>2.0</td>\n",
       "      <td>3</td>\n",
       "      <td>1</td>\n",
       "      <td>349909</td>\n",
       "      <td>21.0750</td>\n",
       "      <td>NaN</td>\n",
       "      <td>S</td>\n",
       "    </tr>\n",
       "    <tr>\n",
       "      <th>8</th>\n",
       "      <td>9</td>\n",
       "      <td>1</td>\n",
       "      <td>3</td>\n",
       "      <td>Johnson, Mrs. Oscar W (Elisabeth Vilhelmina Berg)</td>\n",
       "      <td>0</td>\n",
       "      <td>27.0</td>\n",
       "      <td>0</td>\n",
       "      <td>2</td>\n",
       "      <td>347742</td>\n",
       "      <td>11.1333</td>\n",
       "      <td>NaN</td>\n",
       "      <td>S</td>\n",
       "    </tr>\n",
       "    <tr>\n",
       "      <th>9</th>\n",
       "      <td>10</td>\n",
       "      <td>1</td>\n",
       "      <td>2</td>\n",
       "      <td>Nasser, Mrs. Nicholas (Adele Achem)</td>\n",
       "      <td>0</td>\n",
       "      <td>14.0</td>\n",
       "      <td>1</td>\n",
       "      <td>0</td>\n",
       "      <td>237736</td>\n",
       "      <td>30.0708</td>\n",
       "      <td>NaN</td>\n",
       "      <td>C</td>\n",
       "    </tr>\n",
       "    <tr>\n",
       "      <th>10</th>\n",
       "      <td>11</td>\n",
       "      <td>1</td>\n",
       "      <td>3</td>\n",
       "      <td>Sandstrom, Miss. Marguerite Rut</td>\n",
       "      <td>0</td>\n",
       "      <td>4.0</td>\n",
       "      <td>1</td>\n",
       "      <td>1</td>\n",
       "      <td>PP 9549</td>\n",
       "      <td>16.7000</td>\n",
       "      <td>G6</td>\n",
       "      <td>S</td>\n",
       "    </tr>\n",
       "  </tbody>\n",
       "</table>\n",
       "</div>"
      ],
      "text/plain": [
       "    PassengerId  Survived  Pclass                                               Name  Sex   Age  SibSp  Parch            Ticket     Fare Cabin Embarked\n",
       "0             1         0       3                            Braund, Mr. Owen Harris    1  22.0      1      0         A/5 21171   7.2500   NaN        S\n",
       "1             2         1       1  Cumings, Mrs. John Bradley (Florence Briggs Th...    0  38.0      1      0          PC 17599  71.2833   C85        C\n",
       "2             3         1       3                             Heikkinen, Miss. Laina    0  26.0      0      0  STON/O2. 3101282   7.9250   NaN        S\n",
       "3             4         1       1       Futrelle, Mrs. Jacques Heath (Lily May Peel)    0  35.0      1      0            113803  53.1000  C123        S\n",
       "4             5         0       3                           Allen, Mr. William Henry    1  35.0      0      0            373450   8.0500   NaN        S\n",
       "5             6         0       3                                   Moran, Mr. James    1   NaN      0      0            330877   8.4583   NaN        Q\n",
       "6             7         0       1                            McCarthy, Mr. Timothy J    1  54.0      0      0             17463  51.8625   E46        S\n",
       "7             8         0       3                     Palsson, Master. Gosta Leonard    1   2.0      3      1            349909  21.0750   NaN        S\n",
       "8             9         1       3  Johnson, Mrs. Oscar W (Elisabeth Vilhelmina Berg)    0  27.0      0      2            347742  11.1333   NaN        S\n",
       "9            10         1       2                Nasser, Mrs. Nicholas (Adele Achem)    0  14.0      1      0            237736  30.0708   NaN        C\n",
       "10           11         1       3                    Sandstrom, Miss. Marguerite Rut    0   4.0      1      1           PP 9549  16.7000    G6        S"
      ]
     },
     "execution_count": 58,
     "metadata": {},
     "output_type": "execute_result"
    }
   ],
   "source": [
    "df_train.head(11)"
   ]
  },
  {
   "cell_type": "code",
   "execution_count": 59,
   "metadata": {},
   "outputs": [
    {
     "data": {
      "text/html": [
       "<div>\n",
       "<style scoped>\n",
       "    .dataframe tbody tr th:only-of-type {\n",
       "        vertical-align: middle;\n",
       "    }\n",
       "\n",
       "    .dataframe tbody tr th {\n",
       "        vertical-align: top;\n",
       "    }\n",
       "\n",
       "    .dataframe thead th {\n",
       "        text-align: right;\n",
       "    }\n",
       "</style>\n",
       "<table border=\"1\" class=\"dataframe\">\n",
       "  <thead>\n",
       "    <tr style=\"text-align: right;\">\n",
       "      <th></th>\n",
       "      <th>PassengerId</th>\n",
       "      <th>Survived</th>\n",
       "      <th>Pclass</th>\n",
       "      <th>Name</th>\n",
       "      <th>Sex</th>\n",
       "      <th>Age</th>\n",
       "      <th>SibSp</th>\n",
       "      <th>Parch</th>\n",
       "      <th>Ticket</th>\n",
       "      <th>Fare</th>\n",
       "      <th>Cabin</th>\n",
       "      <th>Embarked</th>\n",
       "    </tr>\n",
       "  </thead>\n",
       "  <tbody>\n",
       "    <tr>\n",
       "      <th>0</th>\n",
       "      <td>1</td>\n",
       "      <td>0</td>\n",
       "      <td>3</td>\n",
       "      <td>Braund, Mr. Owen Harris</td>\n",
       "      <td>1</td>\n",
       "      <td>22.0</td>\n",
       "      <td>1</td>\n",
       "      <td>0</td>\n",
       "      <td>A/5 21171</td>\n",
       "      <td>7.2500</td>\n",
       "      <td>NaN</td>\n",
       "      <td>S</td>\n",
       "    </tr>\n",
       "    <tr>\n",
       "      <th>1</th>\n",
       "      <td>2</td>\n",
       "      <td>1</td>\n",
       "      <td>1</td>\n",
       "      <td>Cumings, Mrs. John Bradley (Florence Briggs Th...</td>\n",
       "      <td>0</td>\n",
       "      <td>38.0</td>\n",
       "      <td>1</td>\n",
       "      <td>0</td>\n",
       "      <td>PC 17599</td>\n",
       "      <td>71.2833</td>\n",
       "      <td>C85</td>\n",
       "      <td>C</td>\n",
       "    </tr>\n",
       "    <tr>\n",
       "      <th>2</th>\n",
       "      <td>3</td>\n",
       "      <td>1</td>\n",
       "      <td>3</td>\n",
       "      <td>Heikkinen, Miss. Laina</td>\n",
       "      <td>0</td>\n",
       "      <td>26.0</td>\n",
       "      <td>0</td>\n",
       "      <td>0</td>\n",
       "      <td>STON/O2. 3101282</td>\n",
       "      <td>7.9250</td>\n",
       "      <td>NaN</td>\n",
       "      <td>S</td>\n",
       "    </tr>\n",
       "    <tr>\n",
       "      <th>3</th>\n",
       "      <td>4</td>\n",
       "      <td>1</td>\n",
       "      <td>1</td>\n",
       "      <td>Futrelle, Mrs. Jacques Heath (Lily May Peel)</td>\n",
       "      <td>0</td>\n",
       "      <td>35.0</td>\n",
       "      <td>1</td>\n",
       "      <td>0</td>\n",
       "      <td>113803</td>\n",
       "      <td>53.1000</td>\n",
       "      <td>C123</td>\n",
       "      <td>S</td>\n",
       "    </tr>\n",
       "    <tr>\n",
       "      <th>4</th>\n",
       "      <td>5</td>\n",
       "      <td>0</td>\n",
       "      <td>3</td>\n",
       "      <td>Allen, Mr. William Henry</td>\n",
       "      <td>1</td>\n",
       "      <td>35.0</td>\n",
       "      <td>0</td>\n",
       "      <td>0</td>\n",
       "      <td>373450</td>\n",
       "      <td>8.0500</td>\n",
       "      <td>NaN</td>\n",
       "      <td>S</td>\n",
       "    </tr>\n",
       "    <tr>\n",
       "      <th>5</th>\n",
       "      <td>6</td>\n",
       "      <td>0</td>\n",
       "      <td>3</td>\n",
       "      <td>Moran, Mr. James</td>\n",
       "      <td>1</td>\n",
       "      <td>27.0</td>\n",
       "      <td>0</td>\n",
       "      <td>0</td>\n",
       "      <td>330877</td>\n",
       "      <td>8.4583</td>\n",
       "      <td>NaN</td>\n",
       "      <td>Q</td>\n",
       "    </tr>\n",
       "    <tr>\n",
       "      <th>6</th>\n",
       "      <td>7</td>\n",
       "      <td>0</td>\n",
       "      <td>1</td>\n",
       "      <td>McCarthy, Mr. Timothy J</td>\n",
       "      <td>1</td>\n",
       "      <td>54.0</td>\n",
       "      <td>0</td>\n",
       "      <td>0</td>\n",
       "      <td>17463</td>\n",
       "      <td>51.8625</td>\n",
       "      <td>E46</td>\n",
       "      <td>S</td>\n",
       "    </tr>\n",
       "    <tr>\n",
       "      <th>7</th>\n",
       "      <td>8</td>\n",
       "      <td>0</td>\n",
       "      <td>3</td>\n",
       "      <td>Palsson, Master. Gosta Leonard</td>\n",
       "      <td>1</td>\n",
       "      <td>2.0</td>\n",
       "      <td>3</td>\n",
       "      <td>1</td>\n",
       "      <td>349909</td>\n",
       "      <td>21.0750</td>\n",
       "      <td>NaN</td>\n",
       "      <td>S</td>\n",
       "    </tr>\n",
       "    <tr>\n",
       "      <th>8</th>\n",
       "      <td>9</td>\n",
       "      <td>1</td>\n",
       "      <td>3</td>\n",
       "      <td>Johnson, Mrs. Oscar W (Elisabeth Vilhelmina Berg)</td>\n",
       "      <td>0</td>\n",
       "      <td>27.0</td>\n",
       "      <td>0</td>\n",
       "      <td>2</td>\n",
       "      <td>347742</td>\n",
       "      <td>11.1333</td>\n",
       "      <td>NaN</td>\n",
       "      <td>S</td>\n",
       "    </tr>\n",
       "    <tr>\n",
       "      <th>9</th>\n",
       "      <td>10</td>\n",
       "      <td>1</td>\n",
       "      <td>2</td>\n",
       "      <td>Nasser, Mrs. Nicholas (Adele Achem)</td>\n",
       "      <td>0</td>\n",
       "      <td>14.0</td>\n",
       "      <td>1</td>\n",
       "      <td>0</td>\n",
       "      <td>237736</td>\n",
       "      <td>30.0708</td>\n",
       "      <td>NaN</td>\n",
       "      <td>C</td>\n",
       "    </tr>\n",
       "    <tr>\n",
       "      <th>10</th>\n",
       "      <td>11</td>\n",
       "      <td>1</td>\n",
       "      <td>3</td>\n",
       "      <td>Sandstrom, Miss. Marguerite Rut</td>\n",
       "      <td>0</td>\n",
       "      <td>4.0</td>\n",
       "      <td>1</td>\n",
       "      <td>1</td>\n",
       "      <td>PP 9549</td>\n",
       "      <td>16.7000</td>\n",
       "      <td>G6</td>\n",
       "      <td>S</td>\n",
       "    </tr>\n",
       "  </tbody>\n",
       "</table>\n",
       "</div>"
      ],
      "text/plain": [
       "    PassengerId  Survived  Pclass                                               Name  Sex   Age  SibSp  Parch            Ticket     Fare Cabin Embarked\n",
       "0             1         0       3                            Braund, Mr. Owen Harris    1  22.0      1      0         A/5 21171   7.2500   NaN        S\n",
       "1             2         1       1  Cumings, Mrs. John Bradley (Florence Briggs Th...    0  38.0      1      0          PC 17599  71.2833   C85        C\n",
       "2             3         1       3                             Heikkinen, Miss. Laina    0  26.0      0      0  STON/O2. 3101282   7.9250   NaN        S\n",
       "3             4         1       1       Futrelle, Mrs. Jacques Heath (Lily May Peel)    0  35.0      1      0            113803  53.1000  C123        S\n",
       "4             5         0       3                           Allen, Mr. William Henry    1  35.0      0      0            373450   8.0500   NaN        S\n",
       "5             6         0       3                                   Moran, Mr. James    1  27.0      0      0            330877   8.4583   NaN        Q\n",
       "6             7         0       1                            McCarthy, Mr. Timothy J    1  54.0      0      0             17463  51.8625   E46        S\n",
       "7             8         0       3                     Palsson, Master. Gosta Leonard    1   2.0      3      1            349909  21.0750   NaN        S\n",
       "8             9         1       3  Johnson, Mrs. Oscar W (Elisabeth Vilhelmina Berg)    0  27.0      0      2            347742  11.1333   NaN        S\n",
       "9            10         1       2                Nasser, Mrs. Nicholas (Adele Achem)    0  14.0      1      0            237736  30.0708   NaN        C\n",
       "10           11         1       3                    Sandstrom, Miss. Marguerite Rut    0   4.0      1      1           PP 9549  16.7000    G6        S"
      ]
     },
     "execution_count": 59,
     "metadata": {},
     "output_type": "execute_result"
    }
   ],
   "source": [
    "df_train = df_train.set_index('PassengerId')\n",
    "df_train['Age'] = df_train['Age'].fillna(value=age_columns_ml_fill.Age)\n",
    "df_train = df_train.reset_index()\n",
    "df_train.head(11)"
   ]
  },
  {
   "cell_type": "code",
   "execution_count": 60,
   "metadata": {},
   "outputs": [],
   "source": [
    "df_train = df_train.drop(['Cabin', 'Name', 'Ticket'], axis=1)\n",
    "df_test = df_test.drop(['Cabin', 'Name', 'Ticket'], axis=1)"
   ]
  },
  {
   "cell_type": "code",
   "execution_count": 61,
   "metadata": {},
   "outputs": [
    {
     "name": "stdout",
     "output_type": "stream",
     "text": [
      "<class 'pandas.core.frame.DataFrame'>\n",
      "RangeIndex: 418 entries, 0 to 417\n",
      "Data columns (total 8 columns):\n",
      " #   Column       Non-Null Count  Dtype  \n",
      "---  ------       --------------  -----  \n",
      " 0   PassengerId  418 non-null    int64  \n",
      " 1   Pclass       418 non-null    int64  \n",
      " 2   Sex          418 non-null    int64  \n",
      " 3   Age          418 non-null    float64\n",
      " 4   SibSp        418 non-null    int64  \n",
      " 5   Parch        418 non-null    int64  \n",
      " 6   Fare         418 non-null    float64\n",
      " 7   Embarked     418 non-null    object \n",
      "dtypes: float64(2), int64(5), object(1)\n",
      "memory usage: 26.2+ KB\n"
     ]
    }
   ],
   "source": [
    "df_test.info()"
   ]
  },
  {
   "cell_type": "code",
   "execution_count": 62,
   "metadata": {},
   "outputs": [
    {
     "name": "stdout",
     "output_type": "stream",
     "text": [
      "<class 'pandas.core.frame.DataFrame'>\n",
      "RangeIndex: 891 entries, 0 to 890\n",
      "Data columns (total 9 columns):\n",
      " #   Column       Non-Null Count  Dtype  \n",
      "---  ------       --------------  -----  \n",
      " 0   PassengerId  891 non-null    int64  \n",
      " 1   Survived     891 non-null    int64  \n",
      " 2   Pclass       891 non-null    int64  \n",
      " 3   Sex          891 non-null    int64  \n",
      " 4   Age          891 non-null    float64\n",
      " 5   SibSp        891 non-null    int64  \n",
      " 6   Parch        891 non-null    int64  \n",
      " 7   Fare         891 non-null    float64\n",
      " 8   Embarked     891 non-null    object \n",
      "dtypes: float64(2), int64(6), object(1)\n",
      "memory usage: 62.8+ KB\n"
     ]
    }
   ],
   "source": [
    "df_train.info()"
   ]
  },
  {
   "cell_type": "code",
   "execution_count": 63,
   "metadata": {},
   "outputs": [
    {
     "data": {
      "text/plain": [
       "0    549\n",
       "1    342\n",
       "Name: Survived, dtype: int64"
      ]
     },
     "execution_count": 63,
     "metadata": {},
     "output_type": "execute_result"
    }
   ],
   "source": [
    "df_train['Survived'].value_counts()"
   ]
  },
  {
   "cell_type": "code",
   "execution_count": 64,
   "metadata": {},
   "outputs": [],
   "source": [
    "df_test = df_test.set_index('PassengerId')\n",
    "df_train = df_train.set_index('PassengerId')"
   ]
  },
  {
   "cell_type": "markdown",
   "metadata": {},
   "source": [
    "_Столбец Embarked имеет категориальные значения. Преобразуем их в количественные_"
   ]
  },
  {
   "cell_type": "code",
   "execution_count": 65,
   "metadata": {},
   "outputs": [
    {
     "data": {
      "text/html": [
       "<div>\n",
       "<style scoped>\n",
       "    .dataframe tbody tr th:only-of-type {\n",
       "        vertical-align: middle;\n",
       "    }\n",
       "\n",
       "    .dataframe tbody tr th {\n",
       "        vertical-align: top;\n",
       "    }\n",
       "\n",
       "    .dataframe thead th {\n",
       "        text-align: right;\n",
       "    }\n",
       "</style>\n",
       "<table border=\"1\" class=\"dataframe\">\n",
       "  <thead>\n",
       "    <tr style=\"text-align: right;\">\n",
       "      <th></th>\n",
       "      <th>Survived</th>\n",
       "      <th>Pclass</th>\n",
       "      <th>Sex</th>\n",
       "      <th>Age</th>\n",
       "      <th>SibSp</th>\n",
       "      <th>Parch</th>\n",
       "      <th>Fare</th>\n",
       "      <th>Embarked</th>\n",
       "    </tr>\n",
       "    <tr>\n",
       "      <th>PassengerId</th>\n",
       "      <th></th>\n",
       "      <th></th>\n",
       "      <th></th>\n",
       "      <th></th>\n",
       "      <th></th>\n",
       "      <th></th>\n",
       "      <th></th>\n",
       "      <th></th>\n",
       "    </tr>\n",
       "  </thead>\n",
       "  <tbody>\n",
       "    <tr>\n",
       "      <th>1</th>\n",
       "      <td>0</td>\n",
       "      <td>3</td>\n",
       "      <td>1</td>\n",
       "      <td>22.0</td>\n",
       "      <td>1</td>\n",
       "      <td>0</td>\n",
       "      <td>7.2500</td>\n",
       "      <td>S</td>\n",
       "    </tr>\n",
       "    <tr>\n",
       "      <th>2</th>\n",
       "      <td>1</td>\n",
       "      <td>1</td>\n",
       "      <td>0</td>\n",
       "      <td>38.0</td>\n",
       "      <td>1</td>\n",
       "      <td>0</td>\n",
       "      <td>71.2833</td>\n",
       "      <td>C</td>\n",
       "    </tr>\n",
       "    <tr>\n",
       "      <th>3</th>\n",
       "      <td>1</td>\n",
       "      <td>3</td>\n",
       "      <td>0</td>\n",
       "      <td>26.0</td>\n",
       "      <td>0</td>\n",
       "      <td>0</td>\n",
       "      <td>7.9250</td>\n",
       "      <td>S</td>\n",
       "    </tr>\n",
       "    <tr>\n",
       "      <th>4</th>\n",
       "      <td>1</td>\n",
       "      <td>1</td>\n",
       "      <td>0</td>\n",
       "      <td>35.0</td>\n",
       "      <td>1</td>\n",
       "      <td>0</td>\n",
       "      <td>53.1000</td>\n",
       "      <td>S</td>\n",
       "    </tr>\n",
       "    <tr>\n",
       "      <th>5</th>\n",
       "      <td>0</td>\n",
       "      <td>3</td>\n",
       "      <td>1</td>\n",
       "      <td>35.0</td>\n",
       "      <td>0</td>\n",
       "      <td>0</td>\n",
       "      <td>8.0500</td>\n",
       "      <td>S</td>\n",
       "    </tr>\n",
       "  </tbody>\n",
       "</table>\n",
       "</div>"
      ],
      "text/plain": [
       "             Survived  Pclass  Sex   Age  SibSp  Parch     Fare Embarked\n",
       "PassengerId                                                             \n",
       "1                   0       3    1  22.0      1      0   7.2500        S\n",
       "2                   1       1    0  38.0      1      0  71.2833        C\n",
       "3                   1       3    0  26.0      0      0   7.9250        S\n",
       "4                   1       1    0  35.0      1      0  53.1000        S\n",
       "5                   0       3    1  35.0      0      0   8.0500        S"
      ]
     },
     "execution_count": 65,
     "metadata": {},
     "output_type": "execute_result"
    }
   ],
   "source": [
    "df_train.head()"
   ]
  },
  {
   "cell_type": "code",
   "execution_count": 66,
   "metadata": {},
   "outputs": [],
   "source": [
    "from sklearn.preprocessing import OrdinalEncoder\n",
    "encoder = OrdinalEncoder()\n",
    "data_ordinal_train = pd.DataFrame(encoder.fit_transform(df_train),columns=df_train.columns)\n",
    "data_ordinal_test = pd.DataFrame(encoder.fit_transform(df_test),columns=df_test.columns)"
   ]
  },
  {
   "cell_type": "code",
   "execution_count": 67,
   "metadata": {},
   "outputs": [
    {
     "data": {
      "text/html": [
       "<div>\n",
       "<style scoped>\n",
       "    .dataframe tbody tr th:only-of-type {\n",
       "        vertical-align: middle;\n",
       "    }\n",
       "\n",
       "    .dataframe tbody tr th {\n",
       "        vertical-align: top;\n",
       "    }\n",
       "\n",
       "    .dataframe thead th {\n",
       "        text-align: right;\n",
       "    }\n",
       "</style>\n",
       "<table border=\"1\" class=\"dataframe\">\n",
       "  <thead>\n",
       "    <tr style=\"text-align: right;\">\n",
       "      <th></th>\n",
       "      <th>Survived</th>\n",
       "      <th>Pclass</th>\n",
       "      <th>Sex</th>\n",
       "      <th>Age</th>\n",
       "      <th>SibSp</th>\n",
       "      <th>Parch</th>\n",
       "      <th>Fare</th>\n",
       "      <th>Embarked</th>\n",
       "    </tr>\n",
       "  </thead>\n",
       "  <tbody>\n",
       "    <tr>\n",
       "      <th>0</th>\n",
       "      <td>0.0</td>\n",
       "      <td>2.0</td>\n",
       "      <td>1.0</td>\n",
       "      <td>28.0</td>\n",
       "      <td>1.0</td>\n",
       "      <td>0.0</td>\n",
       "      <td>17.0</td>\n",
       "      <td>2.0</td>\n",
       "    </tr>\n",
       "    <tr>\n",
       "      <th>1</th>\n",
       "      <td>1.0</td>\n",
       "      <td>0.0</td>\n",
       "      <td>0.0</td>\n",
       "      <td>51.0</td>\n",
       "      <td>1.0</td>\n",
       "      <td>0.0</td>\n",
       "      <td>207.0</td>\n",
       "      <td>0.0</td>\n",
       "    </tr>\n",
       "    <tr>\n",
       "      <th>2</th>\n",
       "      <td>1.0</td>\n",
       "      <td>2.0</td>\n",
       "      <td>0.0</td>\n",
       "      <td>34.0</td>\n",
       "      <td>0.0</td>\n",
       "      <td>0.0</td>\n",
       "      <td>40.0</td>\n",
       "      <td>2.0</td>\n",
       "    </tr>\n",
       "    <tr>\n",
       "      <th>3</th>\n",
       "      <td>1.0</td>\n",
       "      <td>0.0</td>\n",
       "      <td>0.0</td>\n",
       "      <td>47.0</td>\n",
       "      <td>1.0</td>\n",
       "      <td>0.0</td>\n",
       "      <td>188.0</td>\n",
       "      <td>2.0</td>\n",
       "    </tr>\n",
       "    <tr>\n",
       "      <th>4</th>\n",
       "      <td>0.0</td>\n",
       "      <td>2.0</td>\n",
       "      <td>1.0</td>\n",
       "      <td>47.0</td>\n",
       "      <td>0.0</td>\n",
       "      <td>0.0</td>\n",
       "      <td>42.0</td>\n",
       "      <td>2.0</td>\n",
       "    </tr>\n",
       "  </tbody>\n",
       "</table>\n",
       "</div>"
      ],
      "text/plain": [
       "   Survived  Pclass  Sex   Age  SibSp  Parch   Fare  Embarked\n",
       "0       0.0     2.0  1.0  28.0    1.0    0.0   17.0       2.0\n",
       "1       1.0     0.0  0.0  51.0    1.0    0.0  207.0       0.0\n",
       "2       1.0     2.0  0.0  34.0    0.0    0.0   40.0       2.0\n",
       "3       1.0     0.0  0.0  47.0    1.0    0.0  188.0       2.0\n",
       "4       0.0     2.0  1.0  47.0    0.0    0.0   42.0       2.0"
      ]
     },
     "execution_count": 67,
     "metadata": {},
     "output_type": "execute_result"
    }
   ],
   "source": [
    "data_ordinal_train.head()"
   ]
  },
  {
   "cell_type": "markdown",
   "metadata": {},
   "source": [
    "###-Балансировка классов"
   ]
  },
  {
   "cell_type": "code",
   "execution_count": 68,
   "metadata": {},
   "outputs": [],
   "source": [
    "train_features, train_target, valid_features, valid_target = df_split(data_ordinal_train, 'Survived')"
   ]
  },
  {
   "cell_type": "markdown",
   "metadata": {},
   "source": [
    "from sklearn.utils import shuffle\n",
    "\n",
    "def upsample(features, target):\n",
    "    features_zeros = features[target == 0]\n",
    "    features_ones = features[target == 1]\n",
    "    target_zeros = target[target == 0]\n",
    "    target_ones = target[target == 1]\n",
    "\n",
    "    features_upsampled = pd.concat([features_zeros] * 4  + [features_ones] * 6)\n",
    "    target_upsampled = pd.concat([target_zeros] * 4 + [target_ones] * 6)\n",
    "    \n",
    "    features_upsampled, target_upsampled = shuffle(\n",
    "        features_upsampled, target_upsampled, random_state=12345)\n",
    "    \n",
    "    return features_upsampled, target_upsampled\n",
    "\n",
    "features_upsampled, target_upsampled = upsample(train_features, train_target)\n"
   ]
  },
  {
   "cell_type": "markdown",
   "metadata": {},
   "source": [
    "# Масштабирование"
   ]
  },
  {
   "cell_type": "code",
   "execution_count": 99,
   "metadata": {},
   "outputs": [],
   "source": [
    "from sklearn.preprocessing import StandardScaler\n",
    "scaler = StandardScaler()\n",
    "scaler.fit(train_features)\n",
    "train_features_scale = scaler.transform(train_features)\n",
    "valid_features_scale = scaler.transform(valid_features)"
   ]
  },
  {
   "cell_type": "markdown",
   "metadata": {},
   "source": [
    "### Предсказания целевого признака"
   ]
  },
  {
   "cell_type": "code",
   "execution_count": 137,
   "metadata": {},
   "outputs": [
    {
     "name": "stdout",
     "output_type": "stream",
     "text": [
      "{'n_estimators': [20, 21, 23, 25, 27, 29, 30, 32, 34, 36, 38, 40, 41, 43, 45, 47, 49, 50, 52, 54, 56, 58, 60, 61, 63, 65, 67, 69, 70, 72, 74, 76, 78, 80, 81, 83, 85, 87, 89, 90, 92, 94, 96, 98, 100, 101, 103, 105, 107, 109, 110, 112, 114, 116, 118, 120, 121, 123, 125, 127, 129, 130, 132, 134, 136, 138, 140, 141, 143, 145, 147, 149, 150, 152, 154, 156, 158, 160, 161, 163, 165, 167, 169, 170, 172, 174, 176, 178, 180, 181, 183, 185, 187, 189, 190, 192, 194, 196, 198, 200], 'max_features': [1, 2, 3, 4, 5, 6, 7], 'max_depth': [2, 4, 6, 8, 10, 12, 14, 16, 18, 20, 22, 24, 26, 28, 30, None], 'min_samples_split': [2, 4, 6, 8, 10, 12, 14, 16, 18, 20, 22, 24, 26, 28, 30], 'min_samples_leaf': [1, 2, 4, 6, 8], 'bootstrap': [True, False]}\n"
     ]
    }
   ],
   "source": [
    "#Количество деревьев в случайном лесу\n",
    "n_estimators = [int(x) for x in np.linspace(start = 20, stop = 200, num = 100)]\n",
    "#Количество полей , которые необходимо учитывать при каждом разделении\n",
    "max_features = [1, 2, 3,4,5,6,7]\n",
    "# Максимальное количество уровней в дереве\n",
    "max_depth = [int(x) for x in np.linspace(2, 30, num = 15)]\n",
    "max_depth.append(None)\n",
    "# Минимальное количество выборок, необходимых для разделения узла\n",
    "min_samples_split = [int(x) for x in np.linspace(2, 30, num = 15)]\n",
    "# Минимальное количество образцов, необходимое на каждом листовом узле\n",
    "min_samples_leaf = [1, 2, 4,6,8]\n",
    "# Способ отбора образцов для обучения каждого дерева\n",
    "bootstrap = [True, False]\n",
    "\n",
    "# Создаем случайную сетку\n",
    "random_grid_1 = {'n_estimators': n_estimators,\n",
    "               'max_features': max_features,\n",
    "               'max_depth': max_depth,\n",
    "               'min_samples_split': min_samples_split,\n",
    "               'min_samples_leaf': min_samples_leaf,\n",
    "               'bootstrap': bootstrap}\n",
    "print(random_grid_1)"
   ]
  },
  {
   "cell_type": "code",
   "execution_count": 138,
   "metadata": {},
   "outputs": [
    {
     "name": "stdout",
     "output_type": "stream",
     "text": [
      "Время выполнения: 22.38 сек\n"
     ]
    }
   ],
   "source": [
    "start = time() #время выполнения 3 минуты\n",
    "rf1 = RandomForestClassifier(random_state=12345)\n",
    "# Случайный поиск параметров с кросс-валдицией, поиск с шагом 100 различных комбинаций параметров\n",
    "rf_random1 = RandomizedSearchCV( estimator = rf1, param_distributions = random_grid_1,   n_iter = 100, cv = 3, \n",
    "                               verbose=0, random_state=12345, n_jobs = -1, scoring = 'f1' )\n",
    "rf_random1.fit(train_features, train_target)\n",
    "rf_random1.best_params_\n",
    "\n",
    "print('Время выполнения: {0:0.2f} сек'.format(time() - start))"
   ]
  },
  {
   "cell_type": "code",
   "execution_count": 139,
   "metadata": {},
   "outputs": [
    {
     "name": "stdout",
     "output_type": "stream",
     "text": [
      "Model with rank: 1\n",
      "Mean validation score: 0.775 (std: 0.011)\n",
      "Parameters: {'n_estimators': 174, 'min_samples_split': 6, 'min_samples_leaf': 2, 'max_features': 2, 'max_depth': 14, 'bootstrap': True}\n",
      "\n",
      "Model with rank: 2\n",
      "Mean validation score: 0.769 (std: 0.007)\n",
      "Parameters: {'n_estimators': 30, 'min_samples_split': 18, 'min_samples_leaf': 8, 'max_features': 7, 'max_depth': 14, 'bootstrap': True}\n",
      "\n",
      "Model with rank: 3\n",
      "Mean validation score: 0.769 (std: 0.005)\n",
      "Parameters: {'n_estimators': 107, 'min_samples_split': 10, 'min_samples_leaf': 1, 'max_features': 2, 'max_depth': 28, 'bootstrap': False}\n",
      "\n"
     ]
    }
   ],
   "source": [
    "report(rf_random1.cv_results_)"
   ]
  },
  {
   "cell_type": "code",
   "execution_count": 140,
   "metadata": {},
   "outputs": [
    {
     "name": "stdout",
     "output_type": "stream",
     "text": [
      "Средняя оценка качества модели на обучающей выборке равна 0.8427\n"
     ]
    }
   ],
   "source": [
    "model = RandomForestClassifier(n_estimators=174, #185,\n",
    "    random_state=12345, \n",
    "    max_depth=14,\n",
    "    min_samples_split=6,\n",
    "    min_samples_leaf=2,\n",
    "    max_features=2, bootstrap = True)  \n",
    " \n",
    "model.fit(train_features_scale, train_target)\n",
    "scores = cross_val_score(model, train_features_scale, train_target, cv=10 )\n",
    "print('Средняя оценка качества модели на обучающей выборке равна {:.4f}'.format(scores.mean()))"
   ]
  },
  {
   "cell_type": "code",
   "execution_count": 141,
   "metadata": {},
   "outputs": [
    {
     "name": "stdout",
     "output_type": "stream",
     "text": [
      "Средняя оценка качества модели на обучающей выборке равна 0.7668\n"
     ]
    }
   ],
   "source": [
    "#model.predictions = model_tmp.predict(features_valid)\n",
    "scores = cross_val_score(model, valid_features_scale, valid_target, cv=10 )\n",
    "print('Средняя оценка качества модели на обучающей выборке равна {:.4f}'.format(scores.mean()))"
   ]
  },
  {
   "cell_type": "code",
   "execution_count": 142,
   "metadata": {},
   "outputs": [
    {
     "name": "stdout",
     "output_type": "stream",
     "text": [
      "Средняя оценка качества модели на обучающей выборке равна 0.8373\n"
     ]
    }
   ],
   "source": [
    "d_train_f = data_ordinal_train.drop(['Survived'], axis = 1)\n",
    "d_train_f_scale = scaler.transform(d_train_f)\n",
    "d_train_t = data_ordinal_train['Survived']\n",
    "scores = cross_val_score(model, d_train_f_scale, d_train_t, cv=10 )\n",
    "print('Средняя оценка качества модели на обучающей выборке равна {:.4f}'.format(scores.mean()))"
   ]
  },
  {
   "cell_type": "code",
   "execution_count": 143,
   "metadata": {},
   "outputs": [
    {
     "name": "stdout",
     "output_type": "stream",
     "text": [
      "<class 'pandas.core.frame.DataFrame'>\n",
      "RangeIndex: 418 entries, 0 to 417\n",
      "Data columns (total 7 columns):\n",
      " #   Column    Non-Null Count  Dtype  \n",
      "---  ------    --------------  -----  \n",
      " 0   Pclass    418 non-null    float64\n",
      " 1   Sex       418 non-null    float64\n",
      " 2   Age       418 non-null    float64\n",
      " 3   SibSp     418 non-null    float64\n",
      " 4   Parch     418 non-null    float64\n",
      " 5   Fare      418 non-null    float64\n",
      " 6   Embarked  418 non-null    float64\n",
      "dtypes: float64(7)\n",
      "memory usage: 23.0 KB\n"
     ]
    }
   ],
   "source": [
    "data_ordinal_test.info()"
   ]
  },
  {
   "cell_type": "code",
   "execution_count": 144,
   "metadata": {},
   "outputs": [],
   "source": [
    "data_ordinal_test_scale = scaler.transform(data_ordinal_test)"
   ]
  },
  {
   "cell_type": "code",
   "execution_count": 145,
   "metadata": {},
   "outputs": [
    {
     "data": {
      "text/html": [
       "<div>\n",
       "<style scoped>\n",
       "    .dataframe tbody tr th:only-of-type {\n",
       "        vertical-align: middle;\n",
       "    }\n",
       "\n",
       "    .dataframe tbody tr th {\n",
       "        vertical-align: top;\n",
       "    }\n",
       "\n",
       "    .dataframe thead th {\n",
       "        text-align: right;\n",
       "    }\n",
       "</style>\n",
       "<table border=\"1\" class=\"dataframe\">\n",
       "  <thead>\n",
       "    <tr style=\"text-align: right;\">\n",
       "      <th></th>\n",
       "      <th>PassengerId</th>\n",
       "      <th>Survived</th>\n",
       "    </tr>\n",
       "  </thead>\n",
       "  <tbody>\n",
       "    <tr>\n",
       "      <th>0</th>\n",
       "      <td>892</td>\n",
       "      <td>0</td>\n",
       "    </tr>\n",
       "    <tr>\n",
       "      <th>1</th>\n",
       "      <td>893</td>\n",
       "      <td>0</td>\n",
       "    </tr>\n",
       "    <tr>\n",
       "      <th>2</th>\n",
       "      <td>894</td>\n",
       "      <td>0</td>\n",
       "    </tr>\n",
       "    <tr>\n",
       "      <th>3</th>\n",
       "      <td>895</td>\n",
       "      <td>0</td>\n",
       "    </tr>\n",
       "    <tr>\n",
       "      <th>4</th>\n",
       "      <td>896</td>\n",
       "      <td>0</td>\n",
       "    </tr>\n",
       "  </tbody>\n",
       "</table>\n",
       "</div>"
      ],
      "text/plain": [
       "   PassengerId  Survived\n",
       "0          892         0\n",
       "1          893         0\n",
       "2          894         0\n",
       "3          895         0\n",
       "4          896         0"
      ]
     },
     "execution_count": 145,
     "metadata": {},
     "output_type": "execute_result"
    }
   ],
   "source": [
    "predictions_S_rfr = model.predict(data_ordinal_test_scale)\n",
    "predictions_S = pd.DataFrame(predictions_S_rfr, columns = ['Survived'])\n",
    "df_test_rfr = df_test.reset_index()\n",
    "df_test_rfr['Survived'] = predictions_S['Survived'].astype('int')\n",
    "data_out_test = df_test_rfr[['PassengerId','Survived']]\n",
    "data_out_test.head()"
   ]
  },
  {
   "cell_type": "code",
   "execution_count": 146,
   "metadata": {},
   "outputs": [
    {
     "data": {
      "text/html": [
       "<div>\n",
       "<style scoped>\n",
       "    .dataframe tbody tr th:only-of-type {\n",
       "        vertical-align: middle;\n",
       "    }\n",
       "\n",
       "    .dataframe tbody tr th {\n",
       "        vertical-align: top;\n",
       "    }\n",
       "\n",
       "    .dataframe thead th {\n",
       "        text-align: right;\n",
       "    }\n",
       "</style>\n",
       "<table border=\"1\" class=\"dataframe\">\n",
       "  <thead>\n",
       "    <tr style=\"text-align: right;\">\n",
       "      <th></th>\n",
       "      <th>PassengerId</th>\n",
       "      <th>Survived</th>\n",
       "    </tr>\n",
       "  </thead>\n",
       "  <tbody>\n",
       "    <tr>\n",
       "      <th>0</th>\n",
       "      <td>892</td>\n",
       "      <td>0</td>\n",
       "    </tr>\n",
       "    <tr>\n",
       "      <th>1</th>\n",
       "      <td>893</td>\n",
       "      <td>0</td>\n",
       "    </tr>\n",
       "    <tr>\n",
       "      <th>2</th>\n",
       "      <td>894</td>\n",
       "      <td>0</td>\n",
       "    </tr>\n",
       "    <tr>\n",
       "      <th>3</th>\n",
       "      <td>895</td>\n",
       "      <td>0</td>\n",
       "    </tr>\n",
       "    <tr>\n",
       "      <th>4</th>\n",
       "      <td>896</td>\n",
       "      <td>0</td>\n",
       "    </tr>\n",
       "  </tbody>\n",
       "</table>\n",
       "</div>"
      ],
      "text/plain": [
       "   PassengerId  Survived\n",
       "0          892         0\n",
       "1          893         0\n",
       "2          894         0\n",
       "3          895         0\n",
       "4          896         0"
      ]
     },
     "execution_count": 146,
     "metadata": {},
     "output_type": "execute_result"
    }
   ],
   "source": [
    "data_out_test.head()"
   ]
  },
  {
   "cell_type": "code",
   "execution_count": 147,
   "metadata": {},
   "outputs": [],
   "source": [
    "data_out_test.to_csv('data_out_test.csv', index=False)"
   ]
  },
  {
   "cell_type": "code",
   "execution_count": null,
   "metadata": {},
   "outputs": [],
   "source": []
  }
 ],
 "metadata": {
  "kernelspec": {
   "display_name": "Python 3",
   "language": "python",
   "name": "python3"
  },
  "language_info": {
   "codemirror_mode": {
    "name": "ipython",
    "version": 3
   },
   "file_extension": ".py",
   "mimetype": "text/x-python",
   "name": "python",
   "nbconvert_exporter": "python",
   "pygments_lexer": "ipython3",
   "version": "3.8.1"
  }
 },
 "nbformat": 4,
 "nbformat_minor": 4
}
